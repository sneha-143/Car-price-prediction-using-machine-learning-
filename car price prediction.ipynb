{
 "cells": [
  {
   "cell_type": "code",
   "execution_count": 1,
   "id": "507fea86-0081-4643-b3de-48528283c7c8",
   "metadata": {},
   "outputs": [
    {
     "name": "stdout",
     "output_type": "stream",
     "text": [
      "<class 'pandas.core.frame.DataFrame'>\n"
     ]
    }
   ],
   "source": [
    "import numpy as np\n",
    "import pandas as pd\n",
    "from sklearn.model_selection import train_test_split\n",
    "data = pd.read_csv(\"C:\\\\Users\\\\A SNEHA\\\\OneDrive\\\\Desktop\\\\ml projects\\\\car_price (1).csv\")\n",
    "print(type(data))"
   ]
  },
  {
   "cell_type": "code",
   "execution_count": 2,
   "id": "da64ddad-dd79-44a0-98c0-d2486b7f2b7d",
   "metadata": {},
   "outputs": [
    {
     "name": "stdout",
     "output_type": "stream",
     "text": [
      "   car_ID  symboling                   CarName fueltype aspiration doornumber  \\\n",
      "0       1          3        alfa-romero giulia      gas        std        two   \n",
      "1       2          3       alfa-romero stelvio      gas        std        two   \n",
      "2       3          1  alfa-romero Quadrifoglio      gas        std        two   \n",
      "3       4          2               audi 100 ls      gas        std       four   \n",
      "4       5          2                audi 100ls      gas        std       four   \n",
      "\n",
      "       carbody drivewheel enginelocation  wheelbase  ...  enginesize  \\\n",
      "0  convertible        rwd          front       88.6  ...         130   \n",
      "1  convertible        rwd          front       88.6  ...         130   \n",
      "2    hatchback        rwd          front       94.5  ...         152   \n",
      "3        sedan        fwd          front       99.8  ...         109   \n",
      "4        sedan        4wd          front       99.4  ...         136   \n",
      "\n",
      "   fuelsystem  boreratio  stroke compressionratio horsepower  peakrpm citympg  \\\n",
      "0        mpfi       3.47    2.68              9.0        111     5000      21   \n",
      "1        mpfi       3.47    2.68              9.0        111     5000      21   \n",
      "2        mpfi       2.68    3.47              9.0        154     5000      19   \n",
      "3        mpfi       3.19    3.40             10.0        102     5500      24   \n",
      "4        mpfi       3.19    3.40              8.0        115     5500      18   \n",
      "\n",
      "   highwaympg    price  \n",
      "0          27  13495.0  \n",
      "1          27  16500.0  \n",
      "2          26  16500.0  \n",
      "3          30  13950.0  \n",
      "4          22  17450.0  \n",
      "\n",
      "[5 rows x 26 columns]\n"
     ]
    }
   ],
   "source": [
    "print(data.head())"
   ]
  },
  {
   "cell_type": "code",
   "execution_count": 3,
   "id": "758dac57-29b5-48d6-a2c2-1ffa81286890",
   "metadata": {},
   "outputs": [
    {
     "name": "stdout",
     "output_type": "stream",
     "text": [
      "[[1, 3, 'alfa-romero giulia', 'gas', 'std', 'two', 'convertible', 'rwd', 'front', 88.6, 168.8, 64.1, 48.8, 2548, 'dohc', 'four', 130, 'mpfi', 3.47, 2.68, 9.0, 111, 5000, 21, 27, 13495.0], [2, 3, 'alfa-romero stelvio', 'gas', 'std', 'two', 'convertible', 'rwd', 'front', 88.6, 168.8, 64.1, 48.8, 2548, 'dohc', 'four', 130, 'mpfi', 3.47, 2.68, 9.0, 111, 5000, 21, 27, 16500.0], [3, 1, 'alfa-romero Quadrifoglio', 'gas', 'std', 'two', 'hatchback', 'rwd', 'front', 94.5, 171.2, 65.5, 52.4, 2823, 'ohcv', 'six', 152, 'mpfi', 2.68, 3.47, 9.0, 154, 5000, 19, 26, 16500.0], [4, 2, 'audi 100 ls', 'gas', 'std', 'four', 'sedan', 'fwd', 'front', 99.8, 176.6, 66.2, 54.3, 2337, 'ohc', 'four', 109, 'mpfi', 3.19, 3.4, 10.0, 102, 5500, 24, 30, 13950.0], [5, 2, 'audi 100ls', 'gas', 'std', 'four', 'sedan', '4wd', 'front', 99.4, 176.6, 66.4, 54.3, 2824, 'ohc', 'five', 136, 'mpfi', 3.19, 3.4, 8.0, 115, 5500, 18, 22, 17450.0], [6, 2, 'audi fox', 'gas', 'std', 'two', 'sedan', 'fwd', 'front', 99.8, 177.3, 66.3, 53.1, 2507, 'ohc', 'five', 136, 'mpfi', 3.19, 3.4, 8.5, 110, 5500, 19, 25, 15250.0], [7, 1, 'audi 100ls', 'gas', 'std', 'four', 'sedan', 'fwd', 'front', 105.8, 192.7, 71.4, 55.7, 2844, 'ohc', 'five', 136, 'mpfi', 3.19, 3.4, 8.5, 110, 5500, 19, 25, 17710.0], [8, 1, 'audi 5000', 'gas', 'std', 'four', 'wagon', 'fwd', 'front', 105.8, 192.7, 71.4, 55.7, 2954, 'ohc', 'five', 136, 'mpfi', 3.19, 3.4, 8.5, 110, 5500, 19, 25, 18920.0], [9, 1, 'audi 4000', 'gas', 'turbo', 'four', 'sedan', 'fwd', 'front', 105.8, 192.7, 71.4, 55.9, 3086, 'ohc', 'five', 131, 'mpfi', 3.13, 3.4, 8.3, 140, 5500, 17, 20, 23875.0], [10, 0, 'audi 5000s (diesel)', 'gas', 'turbo', 'two', 'hatchback', '4wd', 'front', 99.5, 178.2, 67.9, 52.0, 3053, 'ohc', 'five', 131, 'mpfi', 3.13, 3.4, 7.0, 160, 5500, 16, 22, 17859.167], [11, 2, 'bmw 320i', 'gas', 'std', 'two', 'sedan', 'rwd', 'front', 101.2, 176.8, 64.8, 54.3, 2395, 'ohc', 'four', 108, 'mpfi', 3.5, 2.8, 8.8, 101, 5800, 23, 29, 16430.0], [12, 0, 'bmw 320i', 'gas', 'std', 'four', 'sedan', 'rwd', 'front', 101.2, 176.8, 64.8, 54.3, 2395, 'ohc', 'four', 108, 'mpfi', 3.5, 2.8, 8.8, 101, 5800, 23, 29, 16925.0], [13, 0, 'bmw x1', 'gas', 'std', 'two', 'sedan', 'rwd', 'front', 101.2, 176.8, 64.8, 54.3, 2710, 'ohc', 'six', 164, 'mpfi', 3.31, 3.19, 9.0, 121, 4250, 21, 28, 20970.0], [14, 0, 'bmw x3', 'gas', 'std', 'four', 'sedan', 'rwd', 'front', 101.2, 176.8, 64.8, 54.3, 2765, 'ohc', 'six', 164, 'mpfi', 3.31, 3.19, 9.0, 121, 4250, 21, 28, 21105.0], [15, 1, 'bmw z4', 'gas', 'std', 'four', 'sedan', 'rwd', 'front', 103.5, 189.0, 66.9, 55.7, 3055, 'ohc', 'six', 164, 'mpfi', 3.31, 3.19, 9.0, 121, 4250, 20, 25, 24565.0], [16, 0, 'bmw x4', 'gas', 'std', 'four', 'sedan', 'rwd', 'front', 103.5, 189.0, 66.9, 55.7, 3230, 'ohc', 'six', 209, 'mpfi', 3.62, 3.39, 8.0, 182, 5400, 16, 22, 30760.0], [17, 0, 'bmw x5', 'gas', 'std', 'two', 'sedan', 'rwd', 'front', 103.5, 193.8, 67.9, 53.7, 3380, 'ohc', 'six', 209, 'mpfi', 3.62, 3.39, 8.0, 182, 5400, 16, 22, 41315.0], [18, 0, 'bmw x3', 'gas', 'std', 'four', 'sedan', 'rwd', 'front', 110.0, 197.0, 70.9, 56.3, 3505, 'ohc', 'six', 209, 'mpfi', 3.62, 3.39, 8.0, 182, 5400, 15, 20, 36880.0], [19, 2, 'chevrolet impala', 'gas', 'std', 'two', 'hatchback', 'fwd', 'front', 88.4, 141.1, 60.3, 53.2, 1488, 'l', 'three', 61, '2bbl', 2.91, 3.03, 9.5, 48, 5100, 47, 53, 5151.0], [20, 1, 'chevrolet monte carlo', 'gas', 'std', 'two', 'hatchback', 'fwd', 'front', 94.5, 155.9, 63.6, 52.0, 1874, 'ohc', 'four', 90, '2bbl', 3.03, 3.11, 9.6, 70, 5400, 38, 43, 6295.0], [21, 0, 'chevrolet vega 2300', 'gas', 'std', 'four', 'sedan', 'fwd', 'front', 94.5, 158.8, 63.6, 52.0, 1909, 'ohc', 'four', 90, '2bbl', 3.03, 3.11, 9.6, 70, 5400, 38, 43, 6575.0], [22, 1, 'dodge rampage', 'gas', 'std', 'two', 'hatchback', 'fwd', 'front', 93.7, 157.3, 63.8, 50.8, 1876, 'ohc', 'four', 90, '2bbl', 2.97, 3.23, 9.41, 68, 5500, 37, 41, 5572.0], [23, 1, 'dodge challenger se', 'gas', 'std', 'two', 'hatchback', 'fwd', 'front', 93.7, 157.3, 63.8, 50.8, 1876, 'ohc', 'four', 90, '2bbl', 2.97, 3.23, 9.4, 68, 5500, 31, 38, 6377.0], [24, 1, 'dodge d200', 'gas', 'turbo', 'two', 'hatchback', 'fwd', 'front', 93.7, 157.3, 63.8, 50.8, 2128, 'ohc', 'four', 98, 'mpfi', 3.03, 3.39, 7.6, 102, 5500, 24, 30, 7957.0], [25, 1, 'dodge monaco (sw)', 'gas', 'std', 'four', 'hatchback', 'fwd', 'front', 93.7, 157.3, 63.8, 50.6, 1967, 'ohc', 'four', 90, '2bbl', 2.97, 3.23, 9.4, 68, 5500, 31, 38, 6229.0], [26, 1, 'dodge colt hardtop', 'gas', 'std', 'four', 'sedan', 'fwd', 'front', 93.7, 157.3, 63.8, 50.6, 1989, 'ohc', 'four', 90, '2bbl', 2.97, 3.23, 9.4, 68, 5500, 31, 38, 6692.0], [27, 1, 'dodge colt (sw)', 'gas', 'std', 'four', 'sedan', 'fwd', 'front', 93.7, 157.3, 63.8, 50.6, 1989, 'ohc', 'four', 90, '2bbl', 2.97, 3.23, 9.4, 68, 5500, 31, 38, 7609.0], [28, 1, 'dodge coronet custom', 'gas', 'turbo', 'two', 'sedan', 'fwd', 'front', 93.7, 157.3, 63.8, 50.6, 2191, 'ohc', 'four', 98, 'mpfi', 3.03, 3.39, 7.6, 102, 5500, 24, 30, 8558.0], [29, -1, 'dodge dart custom', 'gas', 'std', 'four', 'wagon', 'fwd', 'front', 103.3, 174.6, 64.6, 59.8, 2535, 'ohc', 'four', 122, '2bbl', 3.34, 3.46, 8.5, 88, 5000, 24, 30, 8921.0], [30, 3, 'dodge coronet custom (sw)', 'gas', 'turbo', 'two', 'hatchback', 'fwd', 'front', 95.9, 173.2, 66.3, 50.2, 2811, 'ohc', 'four', 156, 'mfi', 3.6, 3.9, 7.0, 145, 5000, 19, 24, 12964.0], [31, 2, 'honda civic', 'gas', 'std', 'two', 'hatchback', 'fwd', 'front', 86.6, 144.6, 63.9, 50.8, 1713, 'ohc', 'four', 92, '1bbl', 2.91, 3.41, 9.6, 58, 4800, 49, 54, 6479.0], [32, 2, 'honda civic cvcc', 'gas', 'std', 'two', 'hatchback', 'fwd', 'front', 86.6, 144.6, 63.9, 50.8, 1819, 'ohc', 'four', 92, '1bbl', 2.91, 3.41, 9.2, 76, 6000, 31, 38, 6855.0], [33, 1, 'honda civic', 'gas', 'std', 'two', 'hatchback', 'fwd', 'front', 93.7, 150.0, 64.0, 52.6, 1837, 'ohc', 'four', 79, '1bbl', 2.91, 3.07, 10.1, 60, 5500, 38, 42, 5399.0], [34, 1, 'honda accord cvcc', 'gas', 'std', 'two', 'hatchback', 'fwd', 'front', 93.7, 150.0, 64.0, 52.6, 1940, 'ohc', 'four', 92, '1bbl', 2.91, 3.41, 9.2, 76, 6000, 30, 34, 6529.0], [35, 1, 'honda civic cvcc', 'gas', 'std', 'two', 'hatchback', 'fwd', 'front', 93.7, 150.0, 64.0, 52.6, 1956, 'ohc', 'four', 92, '1bbl', 2.91, 3.41, 9.2, 76, 6000, 30, 34, 7129.0], [36, 0, 'honda accord lx', 'gas', 'std', 'four', 'sedan', 'fwd', 'front', 96.5, 163.4, 64.0, 54.5, 2010, 'ohc', 'four', 92, '1bbl', 2.91, 3.41, 9.2, 76, 6000, 30, 34, 7295.0], [37, 0, 'honda civic 1500 gl', 'gas', 'std', 'four', 'wagon', 'fwd', 'front', 96.5, 157.1, 63.9, 58.3, 2024, 'ohc', 'four', 92, '1bbl', 2.92, 3.41, 9.2, 76, 6000, 30, 34, 7295.0], [38, 0, 'honda accord', 'gas', 'std', 'two', 'hatchback', 'fwd', 'front', 96.5, 167.5, 65.2, 53.3, 2236, 'ohc', 'four', 110, '1bbl', 3.15, 3.58, 9.0, 86, 5800, 27, 33, 7895.0], [39, 0, 'honda civic 1300', 'gas', 'std', 'two', 'hatchback', 'fwd', 'front', 96.5, 167.5, 65.2, 53.3, 2289, 'ohc', 'four', 110, '1bbl', 3.15, 3.58, 9.0, 86, 5800, 27, 33, 9095.0], [40, 0, 'honda prelude', 'gas', 'std', 'four', 'sedan', 'fwd', 'front', 96.5, 175.4, 65.2, 54.1, 2304, 'ohc', 'four', 110, '1bbl', 3.15, 3.58, 9.0, 86, 5800, 27, 33, 8845.0], [41, 0, 'honda accord', 'gas', 'std', 'four', 'sedan', 'fwd', 'front', 96.5, 175.4, 62.5, 54.1, 2372, 'ohc', 'four', 110, '1bbl', 3.15, 3.58, 9.0, 86, 5800, 27, 33, 10295.0], [42, 0, 'honda civic', 'gas', 'std', 'four', 'sedan', 'fwd', 'front', 96.5, 175.4, 65.2, 54.1, 2465, 'ohc', 'four', 110, 'mpfi', 3.15, 3.58, 9.0, 101, 5800, 24, 28, 12945.0], [43, 1, 'honda civic (auto)', 'gas', 'std', 'two', 'sedan', 'fwd', 'front', 96.5, 169.1, 66.0, 51.0, 2293, 'ohc', 'four', 110, '2bbl', 3.15, 3.58, 9.1, 100, 5500, 25, 31, 10345.0], [44, 0, 'isuzu MU-X', 'gas', 'std', 'four', 'sedan', 'rwd', 'front', 94.3, 170.7, 61.8, 53.5, 2337, 'ohc', 'four', 111, '2bbl', 3.31, 3.23, 8.5, 78, 4800, 24, 29, 6785.0], [45, 1, 'isuzu D-Max ', 'gas', 'std', 'two', 'sedan', 'fwd', 'front', 94.5, 155.9, 63.6, 52.0, 1874, 'ohc', 'four', 90, '2bbl', 3.03, 3.11, 9.6, 70, 5400, 38, 43, 8916.5], [46, 0, 'isuzu D-Max V-Cross', 'gas', 'std', 'four', 'sedan', 'fwd', 'front', 94.5, 155.9, 63.6, 52.0, 1909, 'ohc', 'four', 90, '2bbl', 3.03, 3.11, 9.6, 70, 5400, 38, 43, 8916.5], [47, 2, 'isuzu D-Max ', 'gas', 'std', 'two', 'hatchback', 'rwd', 'front', 96.0, 172.6, 65.2, 51.4, 2734, 'ohc', 'four', 119, 'spfi', 3.43, 3.23, 9.2, 90, 5000, 24, 29, 11048.0], [48, 0, 'jaguar xj', 'gas', 'std', 'four', 'sedan', 'rwd', 'front', 113.0, 199.6, 69.6, 52.8, 4066, 'dohc', 'six', 258, 'mpfi', 3.63, 4.17, 8.1, 176, 4750, 15, 19, 32250.0], [49, 0, 'jaguar xf', 'gas', 'std', 'four', 'sedan', 'rwd', 'front', 113.0, 199.6, 69.6, 52.8, 4066, 'dohc', 'six', 258, 'mpfi', 3.63, 4.17, 8.1, 176, 4750, 15, 19, 35550.0], [50, 0, 'jaguar xk', 'gas', 'std', 'two', 'sedan', 'rwd', 'front', 102.0, 191.7, 70.6, 47.8, 3950, 'ohcv', 'twelve', 326, 'mpfi', 3.54, 2.76, 11.5, 262, 5000, 13, 17, 36000.0], [51, 1, 'maxda rx3', 'gas', 'std', 'two', 'hatchback', 'fwd', 'front', 93.1, 159.1, 64.2, 54.1, 1890, 'ohc', 'four', 91, '2bbl', 3.03, 3.15, 9.0, 68, 5000, 30, 31, 5195.0], [52, 1, 'maxda glc deluxe', 'gas', 'std', 'two', 'hatchback', 'fwd', 'front', 93.1, 159.1, 64.2, 54.1, 1900, 'ohc', 'four', 91, '2bbl', 3.03, 3.15, 9.0, 68, 5000, 31, 38, 6095.0], [53, 1, 'mazda rx2 coupe', 'gas', 'std', 'two', 'hatchback', 'fwd', 'front', 93.1, 159.1, 64.2, 54.1, 1905, 'ohc', 'four', 91, '2bbl', 3.03, 3.15, 9.0, 68, 5000, 31, 38, 6795.0], [54, 1, 'mazda rx-4', 'gas', 'std', 'four', 'sedan', 'fwd', 'front', 93.1, 166.8, 64.2, 54.1, 1945, 'ohc', 'four', 91, '2bbl', 3.03, 3.15, 9.0, 68, 5000, 31, 38, 6695.0], [55, 1, 'mazda glc deluxe', 'gas', 'std', 'four', 'sedan', 'fwd', 'front', 93.1, 166.8, 64.2, 54.1, 1950, 'ohc', 'four', 91, '2bbl', 3.08, 3.15, 9.0, 68, 5000, 31, 38, 7395.0], [56, 3, 'mazda 626', 'gas', 'std', 'two', 'hatchback', 'rwd', 'front', 95.3, 169.0, 65.7, 49.6, 2380, 'rotor', 'two', 70, '4bbl', 3.33, 3.255, 9.4, 101, 6000, 17, 23, 10945.0], [57, 3, 'mazda glc', 'gas', 'std', 'two', 'hatchback', 'rwd', 'front', 95.3, 169.0, 65.7, 49.6, 2380, 'rotor', 'two', 70, '4bbl', 3.33, 3.255, 9.4, 101, 6000, 17, 23, 11845.0], [58, 3, 'mazda rx-7 gs', 'gas', 'std', 'two', 'hatchback', 'rwd', 'front', 95.3, 169.0, 65.7, 49.6, 2385, 'rotor', 'two', 70, '4bbl', 3.33, 3.255, 9.4, 101, 6000, 17, 23, 13645.0], [59, 3, 'mazda glc 4', 'gas', 'std', 'two', 'hatchback', 'rwd', 'front', 95.3, 169.0, 65.7, 49.6, 2500, 'rotor', 'two', 80, 'mpfi', 3.33, 3.255, 9.4, 135, 6000, 16, 23, 15645.0], [60, 1, 'mazda 626', 'gas', 'std', 'two', 'hatchback', 'fwd', 'front', 98.8, 177.8, 66.5, 53.7, 2385, 'ohc', 'four', 122, '2bbl', 3.39, 3.39, 8.6, 84, 4800, 26, 32, 8845.0], [61, 0, 'mazda glc custom l', 'gas', 'std', 'four', 'sedan', 'fwd', 'front', 98.8, 177.8, 66.5, 55.5, 2410, 'ohc', 'four', 122, '2bbl', 3.39, 3.39, 8.6, 84, 4800, 26, 32, 8495.0], [62, 1, 'mazda glc custom', 'gas', 'std', 'two', 'hatchback', 'fwd', 'front', 98.8, 177.8, 66.5, 53.7, 2385, 'ohc', 'four', 122, '2bbl', 3.39, 3.39, 8.6, 84, 4800, 26, 32, 10595.0], [63, 0, 'mazda rx-4', 'gas', 'std', 'four', 'sedan', 'fwd', 'front', 98.8, 177.8, 66.5, 55.5, 2410, 'ohc', 'four', 122, '2bbl', 3.39, 3.39, 8.6, 84, 4800, 26, 32, 10245.0], [64, 0, 'mazda glc deluxe', 'diesel', 'std', 'four', 'sedan', 'fwd', 'front', 98.8, 177.8, 66.5, 55.5, 2443, 'ohc', 'four', 122, 'idi', 3.39, 3.39, 22.7, 64, 4650, 36, 42, 10795.0], [65, 0, 'mazda 626', 'gas', 'std', 'four', 'hatchback', 'fwd', 'front', 98.8, 177.8, 66.5, 55.5, 2425, 'ohc', 'four', 122, '2bbl', 3.39, 3.39, 8.6, 84, 4800, 26, 32, 11245.0], [66, 0, 'mazda glc', 'gas', 'std', 'four', 'sedan', 'rwd', 'front', 104.9, 175.0, 66.1, 54.4, 2670, 'ohc', 'four', 140, 'mpfi', 3.76, 3.16, 8.0, 120, 5000, 19, 27, 18280.0], [67, 0, 'mazda rx-7 gs', 'diesel', 'std', 'four', 'sedan', 'rwd', 'front', 104.9, 175.0, 66.1, 54.4, 2700, 'ohc', 'four', 134, 'idi', 3.43, 3.64, 22.0, 72, 4200, 31, 39, 18344.0], [68, -1, 'buick electra 225 custom', 'diesel', 'turbo', 'four', 'sedan', 'rwd', 'front', 110.0, 190.9, 70.3, 56.5, 3515, 'ohc', 'five', 183, 'idi', 3.58, 3.64, 21.5, 123, 4350, 22, 25, 25552.0], [69, -1, 'buick century luxus (sw)', 'diesel', 'turbo', 'four', 'wagon', 'rwd', 'front', 110.0, 190.9, 70.3, 58.7, 3750, 'ohc', 'five', 183, 'idi', 3.58, 3.64, 21.5, 123, 4350, 22, 25, 28248.0], [70, 0, 'buick century', 'diesel', 'turbo', 'two', 'hardtop', 'rwd', 'front', 106.7, 187.5, 70.3, 54.9, 3495, 'ohc', 'five', 183, 'idi', 3.58, 3.64, 21.5, 123, 4350, 22, 25, 28176.0], [71, -1, 'buick skyhawk', 'diesel', 'turbo', 'four', 'sedan', 'rwd', 'front', 115.6, 202.6, 71.7, 56.3, 3770, 'ohc', 'five', 183, 'idi', 3.58, 3.64, 21.5, 123, 4350, 22, 25, 31600.0], [72, -1, 'buick opel isuzu deluxe', 'gas', 'std', 'four', 'sedan', 'rwd', 'front', 115.6, 202.6, 71.7, 56.5, 3740, 'ohcv', 'eight', 234, 'mpfi', 3.46, 3.1, 8.3, 155, 4750, 16, 18, 34184.0], [73, 3, 'buick skylark', 'gas', 'std', 'two', 'convertible', 'rwd', 'front', 96.6, 180.3, 70.5, 50.8, 3685, 'ohcv', 'eight', 234, 'mpfi', 3.46, 3.1, 8.3, 155, 4750, 16, 18, 35056.0], [74, 0, 'buick century special', 'gas', 'std', 'four', 'sedan', 'rwd', 'front', 120.9, 208.1, 71.7, 56.7, 3900, 'ohcv', 'eight', 308, 'mpfi', 3.8, 3.35, 8.0, 184, 4500, 14, 16, 40960.0], [75, 1, 'buick regal sport coupe (turbo)', 'gas', 'std', 'two', 'hardtop', 'rwd', 'front', 112.0, 199.2, 72.0, 55.4, 3715, 'ohcv', 'eight', 304, 'mpfi', 3.8, 3.35, 8.0, 184, 4500, 14, 16, 45400.0], [76, 1, 'mercury cougar', 'gas', 'turbo', 'two', 'hatchback', 'rwd', 'front', 102.7, 178.4, 68.0, 54.8, 2910, 'ohc', 'four', 140, 'mpfi', 3.78, 3.12, 8.0, 175, 5000, 19, 24, 16503.0], [77, 2, 'mitsubishi mirage', 'gas', 'std', 'two', 'hatchback', 'fwd', 'front', 93.7, 157.3, 64.4, 50.8, 1918, 'ohc', 'four', 92, '2bbl', 2.97, 3.23, 9.4, 68, 5500, 37, 41, 5389.0], [78, 2, 'mitsubishi lancer', 'gas', 'std', 'two', 'hatchback', 'fwd', 'front', 93.7, 157.3, 64.4, 50.8, 1944, 'ohc', 'four', 92, '2bbl', 2.97, 3.23, 9.4, 68, 5500, 31, 38, 6189.0], [79, 2, 'mitsubishi outlander', 'gas', 'std', 'two', 'hatchback', 'fwd', 'front', 93.7, 157.3, 64.4, 50.8, 2004, 'ohc', 'four', 92, '2bbl', 2.97, 3.23, 9.4, 68, 5500, 31, 38, 6669.0], [80, 1, 'mitsubishi g4', 'gas', 'turbo', 'two', 'hatchback', 'fwd', 'front', 93.0, 157.3, 63.8, 50.8, 2145, 'ohc', 'four', 98, 'spdi', 3.03, 3.39, 7.6, 102, 5500, 24, 30, 7689.0], [81, 3, 'mitsubishi mirage g4', 'gas', 'turbo', 'two', 'hatchback', 'fwd', 'front', 96.3, 173.0, 65.4, 49.4, 2370, 'ohc', 'four', 110, 'spdi', 3.17, 3.46, 7.5, 116, 5500, 23, 30, 9959.0], [82, 3, 'mitsubishi g4', 'gas', 'std', 'two', 'hatchback', 'fwd', 'front', 96.3, 173.0, 65.4, 49.4, 2328, 'ohc', 'four', 122, '2bbl', 3.35, 3.46, 8.5, 88, 5000, 25, 32, 8499.0], [83, 3, 'mitsubishi outlander', 'gas', 'turbo', 'two', 'hatchback', 'fwd', 'front', 95.9, 173.2, 66.3, 50.2, 2833, 'ohc', 'four', 156, 'spdi', 3.58, 3.86, 7.0, 145, 5000, 19, 24, 12629.0], [84, 3, 'mitsubishi g4', 'gas', 'turbo', 'two', 'hatchback', 'fwd', 'front', 95.9, 173.2, 66.3, 50.2, 2921, 'ohc', 'four', 156, 'spdi', 3.59, 3.86, 7.0, 145, 5000, 19, 24, 14869.0], [85, 3, 'mitsubishi mirage g4', 'gas', 'turbo', 'two', 'hatchback', 'fwd', 'front', 95.9, 173.2, 66.3, 50.2, 2926, 'ohc', 'four', 156, 'spdi', 3.59, 3.86, 7.0, 145, 5000, 19, 24, 14489.0], [86, 1, 'mitsubishi montero', 'gas', 'std', 'four', 'sedan', 'fwd', 'front', 96.3, 172.4, 65.4, 51.6, 2365, 'ohc', 'four', 122, '2bbl', 3.35, 3.46, 8.5, 88, 5000, 25, 32, 6989.0], [87, 1, 'mitsubishi pajero', 'gas', 'std', 'four', 'sedan', 'fwd', 'front', 96.3, 172.4, 65.4, 51.6, 2405, 'ohc', 'four', 122, '2bbl', 3.35, 3.46, 8.5, 88, 5000, 25, 32, 8189.0], [88, 1, 'mitsubishi outlander', 'gas', 'turbo', 'four', 'sedan', 'fwd', 'front', 96.3, 172.4, 65.4, 51.6, 2403, 'ohc', 'four', 110, 'spdi', 3.17, 3.46, 7.5, 116, 5500, 23, 30, 9279.0], [89, -1, 'mitsubishi mirage g4', 'gas', 'std', 'four', 'sedan', 'fwd', 'front', 96.3, 172.4, 65.4, 51.6, 2403, 'ohc', 'four', 110, 'spdi', 3.17, 3.46, 7.5, 116, 5500, 23, 30, 9279.0], [90, 1, 'Nissan versa', 'gas', 'std', 'two', 'sedan', 'fwd', 'front', 94.5, 165.3, 63.8, 54.5, 1889, 'ohc', 'four', 97, '2bbl', 3.15, 3.29, 9.4, 69, 5200, 31, 37, 5499.0], [91, 1, 'nissan gt-r', 'diesel', 'std', 'two', 'sedan', 'fwd', 'front', 94.5, 165.3, 63.8, 54.5, 2017, 'ohc', 'four', 103, 'idi', 2.99, 3.47, 21.9, 55, 4800, 45, 50, 7099.0], [92, 1, 'nissan rogue', 'gas', 'std', 'two', 'sedan', 'fwd', 'front', 94.5, 165.3, 63.8, 54.5, 1918, 'ohc', 'four', 97, '2bbl', 3.15, 3.29, 9.4, 69, 5200, 31, 37, 6649.0], [93, 1, 'nissan latio', 'gas', 'std', 'four', 'sedan', 'fwd', 'front', 94.5, 165.3, 63.8, 54.5, 1938, 'ohc', 'four', 97, '2bbl', 3.15, 3.29, 9.4, 69, 5200, 31, 37, 6849.0], [94, 1, 'nissan titan', 'gas', 'std', 'four', 'wagon', 'fwd', 'front', 94.5, 170.2, 63.8, 53.5, 2024, 'ohc', 'four', 97, '2bbl', 3.15, 3.29, 9.4, 69, 5200, 31, 37, 7349.0], [95, 1, 'nissan leaf', 'gas', 'std', 'two', 'sedan', 'fwd', 'front', 94.5, 165.3, 63.8, 54.5, 1951, 'ohc', 'four', 97, '2bbl', 3.15, 3.29, 9.4, 69, 5200, 31, 37, 7299.0], [96, 1, 'nissan juke', 'gas', 'std', 'two', 'hatchback', 'fwd', 'front', 94.5, 165.6, 63.8, 53.3, 2028, 'ohc', 'four', 97, '2bbl', 3.15, 3.29, 9.4, 69, 5200, 31, 37, 7799.0], [97, 1, 'nissan latio', 'gas', 'std', 'four', 'sedan', 'fwd', 'front', 94.5, 165.3, 63.8, 54.5, 1971, 'ohc', 'four', 97, '2bbl', 3.15, 3.29, 9.4, 69, 5200, 31, 37, 7499.0], [98, 1, 'nissan note', 'gas', 'std', 'four', 'wagon', 'fwd', 'front', 94.5, 170.2, 63.8, 53.5, 2037, 'ohc', 'four', 97, '2bbl', 3.15, 3.29, 9.4, 69, 5200, 31, 37, 7999.0], [99, 2, 'nissan clipper', 'gas', 'std', 'two', 'hardtop', 'fwd', 'front', 95.1, 162.4, 63.8, 53.3, 2008, 'ohc', 'four', 97, '2bbl', 3.15, 3.29, 9.4, 69, 5200, 31, 37, 8249.0], [100, 0, 'nissan rogue', 'gas', 'std', 'four', 'hatchback', 'fwd', 'front', 97.2, 173.4, 65.2, 54.7, 2324, 'ohc', 'four', 120, '2bbl', 3.33, 3.47, 8.5, 97, 5200, 27, 34, 8949.0], [101, 0, 'nissan nv200', 'gas', 'std', 'four', 'sedan', 'fwd', 'front', 97.2, 173.4, 65.2, 54.7, 2302, 'ohc', 'four', 120, '2bbl', 3.33, 3.47, 8.5, 97, 5200, 27, 34, 9549.0], [102, 0, 'nissan dayz', 'gas', 'std', 'four', 'sedan', 'fwd', 'front', 100.4, 181.7, 66.5, 55.1, 3095, 'ohcv', 'six', 181, 'mpfi', 3.43, 3.27, 9.0, 152, 5200, 17, 22, 13499.0], [103, 0, 'nissan fuga', 'gas', 'std', 'four', 'wagon', 'fwd', 'front', 100.4, 184.6, 66.5, 56.1, 3296, 'ohcv', 'six', 181, 'mpfi', 3.43, 3.27, 9.0, 152, 5200, 17, 22, 14399.0], [104, 0, 'nissan otti', 'gas', 'std', 'four', 'sedan', 'fwd', 'front', 100.4, 184.6, 66.5, 55.1, 3060, 'ohcv', 'six', 181, 'mpfi', 3.43, 3.27, 9.0, 152, 5200, 19, 25, 13499.0], [105, 3, 'nissan teana', 'gas', 'std', 'two', 'hatchback', 'rwd', 'front', 91.3, 170.7, 67.9, 49.7, 3071, 'ohcv', 'six', 181, 'mpfi', 3.43, 3.27, 9.0, 160, 5200, 19, 25, 17199.0], [106, 3, 'nissan kicks', 'gas', 'turbo', 'two', 'hatchback', 'rwd', 'front', 91.3, 170.7, 67.9, 49.7, 3139, 'ohcv', 'six', 181, 'mpfi', 3.43, 3.27, 7.8, 200, 5200, 17, 23, 19699.0], [107, 1, 'nissan clipper', 'gas', 'std', 'two', 'hatchback', 'rwd', 'front', 99.2, 178.5, 67.9, 49.7, 3139, 'ohcv', 'six', 181, 'mpfi', 3.43, 3.27, 9.0, 160, 5200, 19, 25, 18399.0], [108, 0, 'peugeot 504', 'gas', 'std', 'four', 'sedan', 'rwd', 'front', 107.9, 186.7, 68.4, 56.7, 3020, 'l', 'four', 120, 'mpfi', 3.46, 3.19, 8.4, 97, 5000, 19, 24, 11900.0], [109, 0, 'peugeot 304', 'diesel', 'turbo', 'four', 'sedan', 'rwd', 'front', 107.9, 186.7, 68.4, 56.7, 3197, 'l', 'four', 152, 'idi', 3.7, 3.52, 21.0, 95, 4150, 28, 33, 13200.0], [110, 0, 'peugeot 504 (sw)', 'gas', 'std', 'four', 'wagon', 'rwd', 'front', 114.2, 198.9, 68.4, 58.7, 3230, 'l', 'four', 120, 'mpfi', 3.46, 3.19, 8.4, 97, 5000, 19, 24, 12440.0], [111, 0, 'peugeot 504', 'diesel', 'turbo', 'four', 'wagon', 'rwd', 'front', 114.2, 198.9, 68.4, 58.7, 3430, 'l', 'four', 152, 'idi', 3.7, 3.52, 21.0, 95, 4150, 25, 25, 13860.0], [112, 0, 'peugeot 504', 'gas', 'std', 'four', 'sedan', 'rwd', 'front', 107.9, 186.7, 68.4, 56.7, 3075, 'l', 'four', 120, 'mpfi', 3.46, 2.19, 8.4, 95, 5000, 19, 24, 15580.0], [113, 0, 'peugeot 604sl', 'diesel', 'turbo', 'four', 'sedan', 'rwd', 'front', 107.9, 186.7, 68.4, 56.7, 3252, 'l', 'four', 152, 'idi', 3.7, 3.52, 21.0, 95, 4150, 28, 33, 16900.0], [114, 0, 'peugeot 504', 'gas', 'std', 'four', 'wagon', 'rwd', 'front', 114.2, 198.9, 68.4, 56.7, 3285, 'l', 'four', 120, 'mpfi', 3.46, 2.19, 8.4, 95, 5000, 19, 24, 16695.0], [115, 0, 'peugeot 505s turbo diesel', 'diesel', 'turbo', 'four', 'wagon', 'rwd', 'front', 114.2, 198.9, 68.4, 58.7, 3485, 'l', 'four', 152, 'idi', 3.7, 3.52, 21.0, 95, 4150, 25, 25, 17075.0], [116, 0, 'peugeot 504', 'gas', 'std', 'four', 'sedan', 'rwd', 'front', 107.9, 186.7, 68.4, 56.7, 3075, 'l', 'four', 120, 'mpfi', 3.46, 3.19, 8.4, 97, 5000, 19, 24, 16630.0], [117, 0, 'peugeot 504', 'diesel', 'turbo', 'four', 'sedan', 'rwd', 'front', 107.9, 186.7, 68.4, 56.7, 3252, 'l', 'four', 152, 'idi', 3.7, 3.52, 21.0, 95, 4150, 28, 33, 17950.0], [118, 0, 'peugeot 604sl', 'gas', 'turbo', 'four', 'sedan', 'rwd', 'front', 108.0, 186.7, 68.3, 56.0, 3130, 'l', 'four', 134, 'mpfi', 3.61, 3.21, 7.0, 142, 5600, 18, 24, 18150.0], [119, 1, 'plymouth fury iii', 'gas', 'std', 'two', 'hatchback', 'fwd', 'front', 93.7, 157.3, 63.8, 50.8, 1918, 'ohc', 'four', 90, '2bbl', 2.97, 3.23, 9.4, 68, 5500, 37, 41, 5572.0], [120, 1, 'plymouth cricket', 'gas', 'turbo', 'two', 'hatchback', 'fwd', 'front', 93.7, 157.3, 63.8, 50.8, 2128, 'ohc', 'four', 98, 'spdi', 3.03, 3.39, 7.6, 102, 5500, 24, 30, 7957.0], [121, 1, 'plymouth fury iii', 'gas', 'std', 'four', 'hatchback', 'fwd', 'front', 93.7, 157.3, 63.8, 50.6, 1967, 'ohc', 'four', 90, '2bbl', 2.97, 3.23, 9.4, 68, 5500, 31, 38, 6229.0], [122, 1, 'plymouth satellite custom (sw)', 'gas', 'std', 'four', 'sedan', 'fwd', 'front', 93.7, 167.3, 63.8, 50.8, 1989, 'ohc', 'four', 90, '2bbl', 2.97, 3.23, 9.4, 68, 5500, 31, 38, 6692.0], [123, 1, 'plymouth fury gran sedan', 'gas', 'std', 'four', 'sedan', 'fwd', 'front', 93.7, 167.3, 63.8, 50.8, 2191, 'ohc', 'four', 98, '2bbl', 2.97, 3.23, 9.4, 68, 5500, 31, 38, 7609.0], [124, -1, 'plymouth valiant', 'gas', 'std', 'four', 'wagon', 'fwd', 'front', 103.3, 174.6, 64.6, 59.8, 2535, 'ohc', 'four', 122, '2bbl', 3.35, 3.46, 8.5, 88, 5000, 24, 30, 8921.0], [125, 3, 'plymouth duster', 'gas', 'turbo', 'two', 'hatchback', 'rwd', 'front', 95.9, 173.2, 66.3, 50.2, 2818, 'ohc', 'four', 156, 'spdi', 3.59, 3.86, 7.0, 145, 5000, 19, 24, 12764.0], [126, 3, 'porsche macan', 'gas', 'std', 'two', 'hatchback', 'rwd', 'front', 94.5, 168.9, 68.3, 50.2, 2778, 'ohc', 'four', 151, 'mpfi', 3.94, 3.11, 9.5, 143, 5500, 19, 27, 22018.0], [127, 3, 'porcshce panamera', 'gas', 'std', 'two', 'hardtop', 'rwd', 'rear', 89.5, 168.9, 65.0, 51.6, 2756, 'ohcf', 'six', 194, 'mpfi', 3.74, 2.9, 9.5, 207, 5900, 17, 25, 32528.0], [128, 3, 'porsche cayenne', 'gas', 'std', 'two', 'hardtop', 'rwd', 'rear', 89.5, 168.9, 65.0, 51.6, 2756, 'ohcf', 'six', 194, 'mpfi', 3.74, 2.9, 9.5, 207, 5900, 17, 25, 34028.0], [129, 3, 'porsche boxter', 'gas', 'std', 'two', 'convertible', 'rwd', 'rear', 89.5, 168.9, 65.0, 51.6, 2800, 'ohcf', 'six', 194, 'mpfi', 3.74, 2.9, 9.5, 207, 5900, 17, 25, 37028.0], [130, 1, 'porsche cayenne', 'gas', 'std', 'two', 'hatchback', 'rwd', 'front', 98.4, 175.7, 72.3, 50.5, 3366, 'dohcv', 'eight', 203, 'mpfi', 3.94, 3.11, 10.0, 288, 5750, 17, 28, 31400.5], [131, 0, 'renault 12tl', 'gas', 'std', 'four', 'wagon', 'fwd', 'front', 96.1, 181.5, 66.5, 55.2, 2579, 'ohc', 'four', 132, 'mpfi', 3.46, 3.9, 8.7, 90, 5100, 23, 31, 9295.0], [132, 2, 'renault 5 gtl', 'gas', 'std', 'two', 'hatchback', 'fwd', 'front', 96.1, 176.8, 66.6, 50.5, 2460, 'ohc', 'four', 132, 'mpfi', 3.46, 3.9, 8.7, 90, 5100, 23, 31, 9895.0], [133, 3, 'saab 99e', 'gas', 'std', 'two', 'hatchback', 'fwd', 'front', 99.1, 186.6, 66.5, 56.1, 2658, 'ohc', 'four', 121, 'mpfi', 3.54, 3.07, 9.31, 110, 5250, 21, 28, 11850.0], [134, 2, 'saab 99le', 'gas', 'std', 'four', 'sedan', 'fwd', 'front', 99.1, 186.6, 66.5, 56.1, 2695, 'ohc', 'four', 121, 'mpfi', 3.54, 3.07, 9.3, 110, 5250, 21, 28, 12170.0], [135, 3, 'saab 99le', 'gas', 'std', 'two', 'hatchback', 'fwd', 'front', 99.1, 186.6, 66.5, 56.1, 2707, 'ohc', 'four', 121, 'mpfi', 2.54, 2.07, 9.3, 110, 5250, 21, 28, 15040.0], [136, 2, 'saab 99gle', 'gas', 'std', 'four', 'sedan', 'fwd', 'front', 99.1, 186.6, 66.5, 56.1, 2758, 'ohc', 'four', 121, 'mpfi', 3.54, 3.07, 9.3, 110, 5250, 21, 28, 15510.0], [137, 3, 'saab 99gle', 'gas', 'turbo', 'two', 'hatchback', 'fwd', 'front', 99.1, 186.6, 66.5, 56.1, 2808, 'dohc', 'four', 121, 'mpfi', 3.54, 3.07, 9.0, 160, 5500, 19, 26, 18150.0], [138, 2, 'saab 99e', 'gas', 'turbo', 'four', 'sedan', 'fwd', 'front', 99.1, 186.6, 66.5, 56.1, 2847, 'dohc', 'four', 121, 'mpfi', 3.54, 3.07, 9.0, 160, 5500, 19, 26, 18620.0], [139, 2, 'subaru', 'gas', 'std', 'two', 'hatchback', 'fwd', 'front', 93.7, 156.9, 63.4, 53.7, 2050, 'ohcf', 'four', 97, '2bbl', 3.62, 2.36, 9.0, 69, 4900, 31, 36, 5118.0], [140, 2, 'subaru dl', 'gas', 'std', 'two', 'hatchback', 'fwd', 'front', 93.7, 157.9, 63.6, 53.7, 2120, 'ohcf', 'four', 108, '2bbl', 3.62, 2.64, 8.7, 73, 4400, 26, 31, 7053.0], [141, 2, 'subaru dl', 'gas', 'std', 'two', 'hatchback', '4wd', 'front', 93.3, 157.3, 63.8, 55.7, 2240, 'ohcf', 'four', 108, '2bbl', 3.62, 2.64, 8.7, 73, 4400, 26, 31, 7603.0], [142, 0, 'subaru', 'gas', 'std', 'four', 'sedan', 'fwd', 'front', 97.2, 172.0, 65.4, 52.5, 2145, 'ohcf', 'four', 108, '2bbl', 3.62, 2.64, 9.5, 82, 4800, 32, 37, 7126.0], [143, 0, 'subaru brz', 'gas', 'std', 'four', 'sedan', 'fwd', 'front', 97.2, 172.0, 65.4, 52.5, 2190, 'ohcf', 'four', 108, '2bbl', 3.62, 2.64, 9.5, 82, 4400, 28, 33, 7775.0], [144, 0, 'subaru baja', 'gas', 'std', 'four', 'sedan', 'fwd', 'front', 97.2, 172.0, 65.4, 52.5, 2340, 'ohcf', 'four', 108, 'mpfi', 3.62, 2.64, 9.0, 94, 5200, 26, 32, 9960.0], [145, 0, 'subaru r1', 'gas', 'std', 'four', 'sedan', '4wd', 'front', 97.0, 172.0, 65.4, 54.3, 2385, 'ohcf', 'four', 108, '2bbl', 3.62, 2.64, 9.0, 82, 4800, 24, 25, 9233.0], [146, 0, 'subaru r2', 'gas', 'turbo', 'four', 'sedan', '4wd', 'front', 97.0, 172.0, 65.4, 54.3, 2510, 'ohcf', 'four', 108, 'mpfi', 3.62, 2.64, 7.7, 111, 4800, 24, 29, 11259.0], [147, 0, 'subaru trezia', 'gas', 'std', 'four', 'wagon', 'fwd', 'front', 97.0, 173.5, 65.4, 53.0, 2290, 'ohcf', 'four', 108, '2bbl', 3.62, 2.64, 9.0, 82, 4800, 28, 32, 7463.0], [148, 0, 'subaru tribeca', 'gas', 'std', 'four', 'wagon', 'fwd', 'front', 97.0, 173.5, 65.4, 53.0, 2455, 'ohcf', 'four', 108, 'mpfi', 3.62, 2.64, 9.0, 94, 5200, 25, 31, 10198.0], [149, 0, 'subaru dl', 'gas', 'std', 'four', 'wagon', '4wd', 'front', 96.9, 173.6, 65.4, 54.9, 2420, 'ohcf', 'four', 108, '2bbl', 3.62, 2.64, 9.0, 82, 4800, 23, 29, 8013.0], [150, 0, 'subaru dl', 'gas', 'turbo', 'four', 'wagon', '4wd', 'front', 96.9, 173.6, 65.4, 54.9, 2650, 'ohcf', 'four', 108, 'mpfi', 3.62, 2.64, 7.7, 111, 4800, 23, 23, 11694.0], [151, 1, 'toyota corona mark ii', 'gas', 'std', 'two', 'hatchback', 'fwd', 'front', 95.7, 158.7, 63.6, 54.5, 1985, 'ohc', 'four', 92, '2bbl', 3.05, 3.03, 9.0, 62, 4800, 35, 39, 5348.0], [152, 1, 'toyota corona', 'gas', 'std', 'two', 'hatchback', 'fwd', 'front', 95.7, 158.7, 63.6, 54.5, 2040, 'ohc', 'four', 92, '2bbl', 3.05, 3.03, 9.0, 62, 4800, 31, 38, 6338.0], [153, 1, 'toyota corolla 1200', 'gas', 'std', 'four', 'hatchback', 'fwd', 'front', 95.7, 158.7, 63.6, 54.5, 2015, 'ohc', 'four', 92, '2bbl', 3.05, 3.03, 9.0, 62, 4800, 31, 38, 6488.0], [154, 0, 'toyota corona hardtop', 'gas', 'std', 'four', 'wagon', 'fwd', 'front', 95.7, 169.7, 63.6, 59.1, 2280, 'ohc', 'four', 92, '2bbl', 3.05, 3.03, 9.0, 62, 4800, 31, 37, 6918.0], [155, 0, 'toyota corolla 1600 (sw)', 'gas', 'std', 'four', 'wagon', '4wd', 'front', 95.7, 169.7, 63.6, 59.1, 2290, 'ohc', 'four', 92, '2bbl', 3.05, 3.03, 9.0, 62, 4800, 27, 32, 7898.0], [156, 0, 'toyota carina', 'gas', 'std', 'four', 'wagon', '4wd', 'front', 95.7, 169.7, 63.6, 59.1, 3110, 'ohc', 'four', 92, '2bbl', 3.05, 3.03, 9.0, 62, 4800, 27, 32, 8778.0], [157, 0, 'toyota mark ii', 'gas', 'std', 'four', 'sedan', 'fwd', 'front', 95.7, 166.3, 64.4, 53.0, 2081, 'ohc', 'four', 98, '2bbl', 3.19, 3.03, 9.0, 70, 4800, 30, 37, 6938.0], [158, 0, 'toyota corolla 1200', 'gas', 'std', 'four', 'hatchback', 'fwd', 'front', 95.7, 166.3, 64.4, 52.8, 2109, 'ohc', 'four', 98, '2bbl', 3.19, 3.03, 9.0, 70, 4800, 30, 37, 7198.0], [159, 0, 'toyota corona', 'diesel', 'std', 'four', 'sedan', 'fwd', 'front', 95.7, 166.3, 64.4, 53.0, 2275, 'ohc', 'four', 110, 'idi', 3.27, 3.35, 22.5, 56, 4500, 34, 36, 7898.0], [160, 0, 'toyota corolla', 'diesel', 'std', 'four', 'hatchback', 'fwd', 'front', 95.7, 166.3, 64.4, 52.8, 2275, 'ohc', 'four', 110, 'idi', 3.27, 3.35, 22.5, 56, 4500, 38, 47, 7788.0], [161, 0, 'toyota corona', 'gas', 'std', 'four', 'sedan', 'fwd', 'front', 95.7, 166.3, 64.4, 53.0, 2094, 'ohc', 'four', 98, '2bbl', 3.19, 3.03, 9.0, 70, 4800, 38, 47, 7738.0], [162, 0, 'toyota corolla', 'gas', 'std', 'four', 'hatchback', 'fwd', 'front', 95.7, 166.3, 64.4, 52.8, 2122, 'ohc', 'four', 98, '2bbl', 3.19, 3.03, 9.0, 70, 4800, 28, 34, 8358.0], [163, 0, 'toyota mark ii', 'gas', 'std', 'four', 'sedan', 'fwd', 'front', 95.7, 166.3, 64.4, 52.8, 2140, 'ohc', 'four', 98, '2bbl', 3.19, 3.03, 9.0, 70, 4800, 28, 34, 9258.0], [164, 1, 'toyota corolla liftback', 'gas', 'std', 'two', 'sedan', 'rwd', 'front', 94.5, 168.7, 64.0, 52.6, 2169, 'ohc', 'four', 98, '2bbl', 3.19, 3.03, 9.0, 70, 4800, 29, 34, 8058.0], [165, 1, 'toyota corona', 'gas', 'std', 'two', 'hatchback', 'rwd', 'front', 94.5, 168.7, 64.0, 52.6, 2204, 'ohc', 'four', 98, '2bbl', 3.19, 3.03, 9.0, 70, 4800, 29, 34, 8238.0], [166, 1, 'toyota celica gt liftback', 'gas', 'std', 'two', 'sedan', 'rwd', 'front', 94.5, 168.7, 64.0, 52.6, 2265, 'dohc', 'four', 98, 'mpfi', 3.24, 3.08, 9.4, 112, 6600, 26, 29, 9298.0], [167, 1, 'toyota corolla tercel', 'gas', 'std', 'two', 'hatchback', 'rwd', 'front', 94.5, 168.7, 64.0, 52.6, 2300, 'dohc', 'four', 98, 'mpfi', 3.24, 3.08, 9.4, 112, 6600, 26, 29, 9538.0], [168, 2, 'toyota corona liftback', 'gas', 'std', 'two', 'hardtop', 'rwd', 'front', 98.4, 176.2, 65.6, 52.0, 2540, 'ohc', 'four', 146, 'mpfi', 3.62, 3.5, 9.3, 116, 4800, 24, 30, 8449.0], [169, 2, 'toyota corolla', 'gas', 'std', 'two', 'hardtop', 'rwd', 'front', 98.4, 176.2, 65.6, 52.0, 2536, 'ohc', 'four', 146, 'mpfi', 3.62, 3.5, 9.3, 116, 4800, 24, 30, 9639.0], [170, 2, 'toyota starlet', 'gas', 'std', 'two', 'hatchback', 'rwd', 'front', 98.4, 176.2, 65.6, 52.0, 2551, 'ohc', 'four', 146, 'mpfi', 3.62, 3.5, 9.3, 116, 4800, 24, 30, 9989.0], [171, 2, 'toyota tercel', 'gas', 'std', 'two', 'hardtop', 'rwd', 'front', 98.4, 176.2, 65.6, 52.0, 2679, 'ohc', 'four', 146, 'mpfi', 3.62, 3.5, 9.3, 116, 4800, 24, 30, 11199.0], [172, 2, 'toyota corolla', 'gas', 'std', 'two', 'hatchback', 'rwd', 'front', 98.4, 176.2, 65.6, 52.0, 2714, 'ohc', 'four', 146, 'mpfi', 3.62, 3.5, 9.3, 116, 4800, 24, 30, 11549.0], [173, 2, 'toyota cressida', 'gas', 'std', 'two', 'convertible', 'rwd', 'front', 98.4, 176.2, 65.6, 53.0, 2975, 'ohc', 'four', 146, 'mpfi', 3.62, 3.5, 9.3, 116, 4800, 24, 30, 17669.0], [174, -1, 'toyota corolla', 'gas', 'std', 'four', 'sedan', 'fwd', 'front', 102.4, 175.6, 66.5, 54.9, 2326, 'ohc', 'four', 122, 'mpfi', 3.31, 3.54, 8.7, 92, 4200, 29, 34, 8948.0], [175, -1, 'toyota celica gt', 'diesel', 'turbo', 'four', 'sedan', 'fwd', 'front', 102.4, 175.6, 66.5, 54.9, 2480, 'ohc', 'four', 110, 'idi', 3.27, 3.35, 22.5, 73, 4500, 30, 33, 10698.0], [176, -1, 'toyota corona', 'gas', 'std', 'four', 'hatchback', 'fwd', 'front', 102.4, 175.6, 66.5, 53.9, 2414, 'ohc', 'four', 122, 'mpfi', 3.31, 3.54, 8.7, 92, 4200, 27, 32, 9988.0], [177, -1, 'toyota corolla', 'gas', 'std', 'four', 'sedan', 'fwd', 'front', 102.4, 175.6, 66.5, 54.9, 2414, 'ohc', 'four', 122, 'mpfi', 3.31, 3.54, 8.7, 92, 4200, 27, 32, 10898.0], [178, -1, 'toyota mark ii', 'gas', 'std', 'four', 'hatchback', 'fwd', 'front', 102.4, 175.6, 66.5, 53.9, 2458, 'ohc', 'four', 122, 'mpfi', 3.31, 3.54, 8.7, 92, 4200, 27, 32, 11248.0], [179, 3, 'toyota corolla liftback', 'gas', 'std', 'two', 'hatchback', 'rwd', 'front', 102.9, 183.5, 67.7, 52.0, 2976, 'dohc', 'six', 171, 'mpfi', 3.27, 3.35, 9.3, 161, 5200, 20, 24, 16558.0], [180, 3, 'toyota corona', 'gas', 'std', 'two', 'hatchback', 'rwd', 'front', 102.9, 183.5, 67.7, 52.0, 3016, 'dohc', 'six', 171, 'mpfi', 3.27, 3.35, 9.3, 161, 5200, 19, 24, 15998.0], [181, -1, 'toyota starlet', 'gas', 'std', 'four', 'sedan', 'rwd', 'front', 104.5, 187.8, 66.5, 54.1, 3131, 'dohc', 'six', 171, 'mpfi', 3.27, 3.35, 9.2, 156, 5200, 20, 24, 15690.0], [182, -1, 'toyouta tercel', 'gas', 'std', 'four', 'wagon', 'rwd', 'front', 104.5, 187.8, 66.5, 54.1, 3151, 'dohc', 'six', 161, 'mpfi', 3.27, 3.35, 9.2, 156, 5200, 19, 24, 15750.0], [183, 2, 'vokswagen rabbit', 'diesel', 'std', 'two', 'sedan', 'fwd', 'front', 97.3, 171.7, 65.5, 55.7, 2261, 'ohc', 'four', 97, 'idi', 3.01, 3.4, 23.0, 52, 4800, 37, 46, 7775.0], [184, 2, 'volkswagen 1131 deluxe sedan', 'gas', 'std', 'two', 'sedan', 'fwd', 'front', 97.3, 171.7, 65.5, 55.7, 2209, 'ohc', 'four', 109, 'mpfi', 3.19, 3.4, 9.0, 85, 5250, 27, 34, 7975.0], [185, 2, 'volkswagen model 111', 'diesel', 'std', 'four', 'sedan', 'fwd', 'front', 97.3, 171.7, 65.5, 55.7, 2264, 'ohc', 'four', 97, 'idi', 3.01, 3.4, 23.0, 52, 4800, 37, 46, 7995.0], [186, 2, 'volkswagen type 3', 'gas', 'std', 'four', 'sedan', 'fwd', 'front', 97.3, 171.7, 65.5, 55.7, 2212, 'ohc', 'four', 109, 'mpfi', 3.19, 3.4, 9.0, 85, 5250, 27, 34, 8195.0], [187, 2, 'volkswagen 411 (sw)', 'gas', 'std', 'four', 'sedan', 'fwd', 'front', 97.3, 171.7, 65.5, 55.7, 2275, 'ohc', 'four', 109, 'mpfi', 3.19, 3.4, 9.0, 85, 5250, 27, 34, 8495.0], [188, 2, 'volkswagen super beetle', 'diesel', 'turbo', 'four', 'sedan', 'fwd', 'front', 97.3, 171.7, 65.5, 55.7, 2319, 'ohc', 'four', 97, 'idi', 3.01, 3.4, 23.0, 68, 4500, 37, 42, 9495.0], [189, 2, 'volkswagen dasher', 'gas', 'std', 'four', 'sedan', 'fwd', 'front', 97.3, 171.7, 65.5, 55.7, 2300, 'ohc', 'four', 109, 'mpfi', 3.19, 3.4, 10.0, 100, 5500, 26, 32, 9995.0], [190, 3, 'vw dasher', 'gas', 'std', 'two', 'convertible', 'fwd', 'front', 94.5, 159.3, 64.2, 55.6, 2254, 'ohc', 'four', 109, 'mpfi', 3.19, 3.4, 8.5, 90, 5500, 24, 29, 11595.0], [191, 3, 'vw rabbit', 'gas', 'std', 'two', 'hatchback', 'fwd', 'front', 94.5, 165.7, 64.0, 51.4, 2221, 'ohc', 'four', 109, 'mpfi', 3.19, 3.4, 8.5, 90, 5500, 24, 29, 9980.0], [192, 0, 'volkswagen rabbit', 'gas', 'std', 'four', 'sedan', 'fwd', 'front', 100.4, 180.2, 66.9, 55.1, 2661, 'ohc', 'five', 136, 'mpfi', 3.19, 3.4, 8.5, 110, 5500, 19, 24, 13295.0], [193, 0, 'volkswagen rabbit custom', 'diesel', 'turbo', 'four', 'sedan', 'fwd', 'front', 100.4, 180.2, 66.9, 55.1, 2579, 'ohc', 'four', 97, 'idi', 3.01, 3.4, 23.0, 68, 4500, 33, 38, 13845.0], [194, 0, 'volkswagen dasher', 'gas', 'std', 'four', 'wagon', 'fwd', 'front', 100.4, 183.1, 66.9, 55.1, 2563, 'ohc', 'four', 109, 'mpfi', 3.19, 3.4, 9.0, 88, 5500, 25, 31, 12290.0], [195, -2, 'volvo 145e (sw)', 'gas', 'std', 'four', 'sedan', 'rwd', 'front', 104.3, 188.8, 67.2, 56.2, 2912, 'ohc', 'four', 141, 'mpfi', 3.78, 3.15, 9.5, 114, 5400, 23, 28, 12940.0], [196, -1, 'volvo 144ea', 'gas', 'std', 'four', 'wagon', 'rwd', 'front', 104.3, 188.8, 67.2, 57.5, 3034, 'ohc', 'four', 141, 'mpfi', 3.78, 3.15, 9.5, 114, 5400, 23, 28, 13415.0], [197, -2, 'volvo 244dl', 'gas', 'std', 'four', 'sedan', 'rwd', 'front', 104.3, 188.8, 67.2, 56.2, 2935, 'ohc', 'four', 141, 'mpfi', 3.78, 3.15, 9.5, 114, 5400, 24, 28, 15985.0], [198, -1, 'volvo 245', 'gas', 'std', 'four', 'wagon', 'rwd', 'front', 104.3, 188.8, 67.2, 57.5, 3042, 'ohc', 'four', 141, 'mpfi', 3.78, 3.15, 9.5, 114, 5400, 24, 28, 16515.0], [199, -2, 'volvo 264gl', 'gas', 'turbo', 'four', 'sedan', 'rwd', 'front', 104.3, 188.8, 67.2, 56.2, 3045, 'ohc', 'four', 130, 'mpfi', 3.62, 3.15, 7.5, 162, 5100, 17, 22, 18420.0], [200, -1, 'volvo diesel', 'gas', 'turbo', 'four', 'wagon', 'rwd', 'front', 104.3, 188.8, 67.2, 57.5, 3157, 'ohc', 'four', 130, 'mpfi', 3.62, 3.15, 7.5, 162, 5100, 17, 22, 18950.0], [201, -1, 'volvo 145e (sw)', 'gas', 'std', 'four', 'sedan', 'rwd', 'front', 109.1, 188.8, 68.9, 55.5, 2952, 'ohc', 'four', 141, 'mpfi', 3.78, 3.15, 9.5, 114, 5400, 23, 28, 16845.0], [202, -1, 'volvo 144ea', 'gas', 'turbo', 'four', 'sedan', 'rwd', 'front', 109.1, 188.8, 68.8, 55.5, 3049, 'ohc', 'four', 141, 'mpfi', 3.78, 3.15, 8.7, 160, 5300, 19, 25, 19045.0], [203, -1, 'volvo 244dl', 'gas', 'std', 'four', 'sedan', 'rwd', 'front', 109.1, 188.8, 68.9, 55.5, 3012, 'ohcv', 'six', 173, 'mpfi', 3.58, 2.87, 8.8, 134, 5500, 18, 23, 21485.0], [204, -1, 'volvo 246', 'diesel', 'turbo', 'four', 'sedan', 'rwd', 'front', 109.1, 188.8, 68.9, 55.5, 3217, 'ohc', 'six', 145, 'idi', 3.01, 3.4, 23.0, 106, 4800, 26, 27, 22470.0], [205, -1, 'volvo 264gl', 'gas', 'turbo', 'four', 'sedan', 'rwd', 'front', 109.1, 188.8, 68.9, 55.5, 3062, 'ohc', 'four', 141, 'mpfi', 3.78, 3.15, 9.5, 114, 5400, 19, 25, 22625.0]]\n"
     ]
    }
   ],
   "source": [
    "data_list = data.values.tolist()\n",
    "print(data_list)"
   ]
  },
  {
   "cell_type": "code",
   "execution_count": 4,
   "id": "47cd306d-a89d-4473-9f32-593a77396064",
   "metadata": {},
   "outputs": [
    {
     "name": "stdout",
     "output_type": "stream",
     "text": [
      "gas\n"
     ]
    }
   ],
   "source": [
    "print(data_list[0][3])"
   ]
  },
  {
   "cell_type": "code",
   "execution_count": 5,
   "id": "5e7485e8-1c18-4434-af92-ce331b4582d6",
   "metadata": {},
   "outputs": [
    {
     "name": "stdout",
     "output_type": "stream",
     "text": [
      "[[4, 2, 'audi 100 ls', 'gas', 'std', 'four', 'sedan', 'fwd', 'front', 99.8, 176.6, 66.2, 54.3, 2337, 'ohc', 'four', 109, 'mpfi', 3.19, 3.4, 10.0, 102, 5500, 24, 30, 13950.0], [5, 2, 'audi 100ls', 'gas', 'std', 'four', 'sedan', '4wd', 'front', 99.4, 176.6, 66.4, 54.3, 2824, 'ohc', 'five', 136, 'mpfi', 3.19, 3.4, 8.0, 115, 5500, 18, 22, 17450.0], [6, 2, 'audi fox', 'gas', 'std', 'two', 'sedan', 'fwd', 'front', 99.8, 177.3, 66.3, 53.1, 2507, 'ohc', 'five', 136, 'mpfi', 3.19, 3.4, 8.5, 110, 5500, 19, 25, 15250.0], [7, 1, 'audi 100ls', 'gas', 'std', 'four', 'sedan', 'fwd', 'front', 105.8, 192.7, 71.4, 55.7, 2844, 'ohc', 'five', 136, 'mpfi', 3.19, 3.4, 8.5, 110, 5500, 19, 25, 17710.0], [8, 1, 'audi 5000', 'gas', 'std', 'four', 'wagon', 'fwd', 'front', 105.8, 192.7, 71.4, 55.7, 2954, 'ohc', 'five', 136, 'mpfi', 3.19, 3.4, 8.5, 110, 5500, 19, 25, 18920.0]]\n"
     ]
    }
   ],
   "source": [
    "print(data_list[3:8])"
   ]
  },
  {
   "cell_type": "code",
   "execution_count": 6,
   "id": "548071a3-b0b9-4c8c-bbae-ed2fc2c2fa18",
   "metadata": {},
   "outputs": [
    {
     "name": "stdout",
     "output_type": "stream",
     "text": [
      "<class 'pandas.core.frame.DataFrame'>\n",
      "RangeIndex: 205 entries, 0 to 204\n",
      "Data columns (total 26 columns):\n",
      " #   Column            Non-Null Count  Dtype  \n",
      "---  ------            --------------  -----  \n",
      " 0   car_ID            205 non-null    int64  \n",
      " 1   symboling         205 non-null    int64  \n",
      " 2   CarName           205 non-null    object \n",
      " 3   fueltype          205 non-null    object \n",
      " 4   aspiration        205 non-null    object \n",
      " 5   doornumber        205 non-null    object \n",
      " 6   carbody           205 non-null    object \n",
      " 7   drivewheel        205 non-null    object \n",
      " 8   enginelocation    205 non-null    object \n",
      " 9   wheelbase         205 non-null    float64\n",
      " 10  carlength         205 non-null    float64\n",
      " 11  carwidth          205 non-null    float64\n",
      " 12  carheight         205 non-null    float64\n",
      " 13  curbweight        205 non-null    int64  \n",
      " 14  enginetype        205 non-null    object \n",
      " 15  cylindernumber    205 non-null    object \n",
      " 16  enginesize        205 non-null    int64  \n",
      " 17  fuelsystem        205 non-null    object \n",
      " 18  boreratio         205 non-null    float64\n",
      " 19  stroke            205 non-null    float64\n",
      " 20  compressionratio  205 non-null    float64\n",
      " 21  horsepower        205 non-null    int64  \n",
      " 22  peakrpm           205 non-null    int64  \n",
      " 23  citympg           205 non-null    int64  \n",
      " 24  highwaympg        205 non-null    int64  \n",
      " 25  price             205 non-null    float64\n",
      "dtypes: float64(8), int64(8), object(10)\n",
      "memory usage: 41.8+ KB\n"
     ]
    }
   ],
   "source": [
    "data.info()"
   ]
  },
  {
   "cell_type": "code",
   "execution_count": 7,
   "id": "cedd5df9-cb07-4d77-92f2-dd0dad54af49",
   "metadata": {},
   "outputs": [
    {
     "data": {
      "text/plain": [
       "car_ID              0\n",
       "symboling           0\n",
       "CarName             0\n",
       "fueltype            0\n",
       "aspiration          0\n",
       "doornumber          0\n",
       "carbody             0\n",
       "drivewheel          0\n",
       "enginelocation      0\n",
       "wheelbase           0\n",
       "carlength           0\n",
       "carwidth            0\n",
       "carheight           0\n",
       "curbweight          0\n",
       "enginetype          0\n",
       "cylindernumber      0\n",
       "enginesize          0\n",
       "fuelsystem          0\n",
       "boreratio           0\n",
       "stroke              0\n",
       "compressionratio    0\n",
       "horsepower          0\n",
       "peakrpm             0\n",
       "citympg             0\n",
       "highwaympg          0\n",
       "price               0\n",
       "dtype: int64"
      ]
     },
     "execution_count": 7,
     "metadata": {},
     "output_type": "execute_result"
    }
   ],
   "source": [
    "data.isnull().sum()"
   ]
  },
  {
   "cell_type": "code",
   "execution_count": 8,
   "id": "878c168c-0178-4f9a-b744-c65a91fa6b57",
   "metadata": {},
   "outputs": [
    {
     "name": "stdout",
     "output_type": "stream",
     "text": [
      "            car_ID   symboling        CarName fueltype aspiration doornumber  \\\n",
      "count   205.000000  205.000000            205      205        205        205   \n",
      "unique         NaN         NaN            147        2          2          2   \n",
      "top            NaN         NaN  toyota corona      gas        std       four   \n",
      "freq           NaN         NaN              6      185        168        115   \n",
      "mean    103.000000    0.834146            NaN      NaN        NaN        NaN   \n",
      "std      59.322565    1.245307            NaN      NaN        NaN        NaN   \n",
      "min       1.000000   -2.000000            NaN      NaN        NaN        NaN   \n",
      "25%      52.000000    0.000000            NaN      NaN        NaN        NaN   \n",
      "50%     103.000000    1.000000            NaN      NaN        NaN        NaN   \n",
      "75%     154.000000    2.000000            NaN      NaN        NaN        NaN   \n",
      "max     205.000000    3.000000            NaN      NaN        NaN        NaN   \n",
      "\n",
      "       carbody drivewheel enginelocation   wheelbase  ...  enginesize  \\\n",
      "count      205        205            205  205.000000  ...  205.000000   \n",
      "unique       5          3              2         NaN  ...         NaN   \n",
      "top      sedan        fwd          front         NaN  ...         NaN   \n",
      "freq        96        120            202         NaN  ...         NaN   \n",
      "mean       NaN        NaN            NaN   98.756585  ...  126.907317   \n",
      "std        NaN        NaN            NaN    6.021776  ...   41.642693   \n",
      "min        NaN        NaN            NaN   86.600000  ...   61.000000   \n",
      "25%        NaN        NaN            NaN   94.500000  ...   97.000000   \n",
      "50%        NaN        NaN            NaN   97.000000  ...  120.000000   \n",
      "75%        NaN        NaN            NaN  102.400000  ...  141.000000   \n",
      "max        NaN        NaN            NaN  120.900000  ...  326.000000   \n",
      "\n",
      "        fuelsystem   boreratio      stroke compressionratio  horsepower  \\\n",
      "count          205  205.000000  205.000000       205.000000  205.000000   \n",
      "unique           8         NaN         NaN              NaN         NaN   \n",
      "top           mpfi         NaN         NaN              NaN         NaN   \n",
      "freq            94         NaN         NaN              NaN         NaN   \n",
      "mean           NaN    3.329756    3.255415        10.142537  104.117073   \n",
      "std            NaN    0.270844    0.313597         3.972040   39.544167   \n",
      "min            NaN    2.540000    2.070000         7.000000   48.000000   \n",
      "25%            NaN    3.150000    3.110000         8.600000   70.000000   \n",
      "50%            NaN    3.310000    3.290000         9.000000   95.000000   \n",
      "75%            NaN    3.580000    3.410000         9.400000  116.000000   \n",
      "max            NaN    3.940000    4.170000        23.000000  288.000000   \n",
      "\n",
      "            peakrpm     citympg  highwaympg         price  \n",
      "count    205.000000  205.000000  205.000000    205.000000  \n",
      "unique          NaN         NaN         NaN           NaN  \n",
      "top             NaN         NaN         NaN           NaN  \n",
      "freq            NaN         NaN         NaN           NaN  \n",
      "mean    5125.121951   25.219512   30.751220  13276.710571  \n",
      "std      476.985643    6.542142    6.886443   7988.852332  \n",
      "min     4150.000000   13.000000   16.000000   5118.000000  \n",
      "25%     4800.000000   19.000000   25.000000   7788.000000  \n",
      "50%     5200.000000   24.000000   30.000000  10295.000000  \n",
      "75%     5500.000000   30.000000   34.000000  16503.000000  \n",
      "max     6600.000000   49.000000   54.000000  45400.000000  \n",
      "\n",
      "[11 rows x 26 columns]\n"
     ]
    }
   ],
   "source": [
    "print(data.describe(include='all'))"
   ]
  },
  {
   "cell_type": "code",
   "execution_count": 9,
   "id": "6a6eb30a-8f27-4d16-8ef0-d2b5a57cb8e7",
   "metadata": {},
   "outputs": [
    {
     "name": "stdout",
     "output_type": "stream",
     "text": [
      "No duplicate rows found.\n"
     ]
    }
   ],
   "source": [
    "# Check for duplicate rows\n",
    "duplicate_rows = data[data.duplicated()]\n",
    "\n",
    "# Print the duplicate rows, if any\n",
    "if not duplicate_rows.empty:\n",
    "    print(\"Duplicate rows found:\")\n",
    "    print(duplicate_rows)\n",
    "else:\n",
    "    print(\"No duplicate rows found.\")"
   ]
  },
  {
   "cell_type": "code",
   "execution_count": 10,
   "id": "b53ec1e0-7587-42f6-8fb8-ddde261dc07e",
   "metadata": {},
   "outputs": [],
   "source": [
    "X=data[[\"car_ID\", \"symboling\", \"CarName\", \"fueltype\", \"aspiration\", \"doornumber\", \"carbody\", \"drivewheel\", \"enginelocation\", \"wheelbase\", \"carlength\",\n",
    "             \"carwidth\", \"carheight\", \"curbweight\", \"enginetype\", \"cylindernumber\",\n",
    "             \"enginesize\", \"fuelsystem\", \"boreratio\", \"stroke\",\n",
    "             \"compressionratio\", \"horsepower\", \"peakrpm\",\n",
    "             \"citympg\", \"highwaympg\"]]\n",
    "y=data['price']"
   ]
  },
  {
   "cell_type": "code",
   "execution_count": 11,
   "id": "57f7ae34-2f24-4456-8466-6b08e5508fd6",
   "metadata": {},
   "outputs": [
    {
     "name": "stdout",
     "output_type": "stream",
     "text": [
      "     car_ID  symboling                   CarName fueltype aspiration  \\\n",
      "0         1          3        alfa-romero giulia      gas        std   \n",
      "1         2          3       alfa-romero stelvio      gas        std   \n",
      "2         3          1  alfa-romero Quadrifoglio      gas        std   \n",
      "3         4          2               audi 100 ls      gas        std   \n",
      "4         5          2                audi 100ls      gas        std   \n",
      "..      ...        ...                       ...      ...        ...   \n",
      "200     201         -1           volvo 145e (sw)      gas        std   \n",
      "201     202         -1               volvo 144ea      gas      turbo   \n",
      "202     203         -1               volvo 244dl      gas        std   \n",
      "203     204         -1                 volvo 246   diesel      turbo   \n",
      "204     205         -1               volvo 264gl      gas      turbo   \n",
      "\n",
      "    doornumber      carbody drivewheel enginelocation  wheelbase  ...  \\\n",
      "0          two  convertible        rwd          front       88.6  ...   \n",
      "1          two  convertible        rwd          front       88.6  ...   \n",
      "2          two    hatchback        rwd          front       94.5  ...   \n",
      "3         four        sedan        fwd          front       99.8  ...   \n",
      "4         four        sedan        4wd          front       99.4  ...   \n",
      "..         ...          ...        ...            ...        ...  ...   \n",
      "200       four        sedan        rwd          front      109.1  ...   \n",
      "201       four        sedan        rwd          front      109.1  ...   \n",
      "202       four        sedan        rwd          front      109.1  ...   \n",
      "203       four        sedan        rwd          front      109.1  ...   \n",
      "204       four        sedan        rwd          front      109.1  ...   \n",
      "\n",
      "     cylindernumber  enginesize  fuelsystem  boreratio stroke  \\\n",
      "0              four         130        mpfi       3.47   2.68   \n",
      "1              four         130        mpfi       3.47   2.68   \n",
      "2               six         152        mpfi       2.68   3.47   \n",
      "3              four         109        mpfi       3.19   3.40   \n",
      "4              five         136        mpfi       3.19   3.40   \n",
      "..              ...         ...         ...        ...    ...   \n",
      "200            four         141        mpfi       3.78   3.15   \n",
      "201            four         141        mpfi       3.78   3.15   \n",
      "202             six         173        mpfi       3.58   2.87   \n",
      "203             six         145         idi       3.01   3.40   \n",
      "204            four         141        mpfi       3.78   3.15   \n",
      "\n",
      "    compressionratio  horsepower peakrpm  citympg  highwaympg  \n",
      "0                9.0         111    5000       21          27  \n",
      "1                9.0         111    5000       21          27  \n",
      "2                9.0         154    5000       19          26  \n",
      "3               10.0         102    5500       24          30  \n",
      "4                8.0         115    5500       18          22  \n",
      "..               ...         ...     ...      ...         ...  \n",
      "200              9.5         114    5400       23          28  \n",
      "201              8.7         160    5300       19          25  \n",
      "202              8.8         134    5500       18          23  \n",
      "203             23.0         106    4800       26          27  \n",
      "204              9.5         114    5400       19          25  \n",
      "\n",
      "[205 rows x 25 columns]\n"
     ]
    }
   ],
   "source": [
    "print(X)"
   ]
  },
  {
   "cell_type": "code",
   "execution_count": 12,
   "id": "9191de16-88e9-4d67-bf9a-1886fc717fd6",
   "metadata": {},
   "outputs": [
    {
     "data": {
      "text/plain": [
       "(205,)"
      ]
     },
     "execution_count": 12,
     "metadata": {},
     "output_type": "execute_result"
    }
   ],
   "source": [
    "y.shape"
   ]
  },
  {
   "cell_type": "code",
   "execution_count": 13,
   "id": "f729937a-ba3e-4fdc-a961-ad527f80e270",
   "metadata": {},
   "outputs": [],
   "source": [
    "X_train,X_test,y_train,y_test=train_test_split(X,y,test_size=0.3)"
   ]
  },
  {
   "cell_type": "code",
   "execution_count": 14,
   "id": "6d5fe32c-6ae0-4ff4-975d-c655c643abbd",
   "metadata": {},
   "outputs": [
    {
     "name": "stdout",
     "output_type": "stream",
     "text": [
      "Index(['car_ID', 'symboling', 'CarName', 'fueltype', 'aspiration',\n",
      "       'doornumber', 'carbody', 'drivewheel', 'enginelocation', 'wheelbase',\n",
      "       'carlength', 'carwidth', 'carheight', 'curbweight', 'enginetype',\n",
      "       'cylindernumber', 'enginesize', 'fuelsystem', 'boreratio', 'stroke',\n",
      "       'compressionratio', 'horsepower', 'peakrpm', 'citympg', 'highwaympg'],\n",
      "      dtype='object')\n"
     ]
    }
   ],
   "source": [
    "print(X_train.columns)"
   ]
  },
  {
   "cell_type": "code",
   "execution_count": 15,
   "id": "75ffa2f6-5ee8-4ec2-87d8-5855835b649f",
   "metadata": {},
   "outputs": [
    {
     "data": {
      "text/html": [
       "<div>\n",
       "<style scoped>\n",
       "    .dataframe tbody tr th:only-of-type {\n",
       "        vertical-align: middle;\n",
       "    }\n",
       "\n",
       "    .dataframe tbody tr th {\n",
       "        vertical-align: top;\n",
       "    }\n",
       "\n",
       "    .dataframe thead th {\n",
       "        text-align: right;\n",
       "    }\n",
       "</style>\n",
       "<table border=\"1\" class=\"dataframe\">\n",
       "  <thead>\n",
       "    <tr style=\"text-align: right;\">\n",
       "      <th></th>\n",
       "      <th>car_ID</th>\n",
       "      <th>symboling</th>\n",
       "      <th>CarName</th>\n",
       "      <th>fueltype</th>\n",
       "      <th>aspiration</th>\n",
       "      <th>doornumber</th>\n",
       "      <th>carbody</th>\n",
       "      <th>drivewheel</th>\n",
       "      <th>enginelocation</th>\n",
       "      <th>wheelbase</th>\n",
       "      <th>...</th>\n",
       "      <th>cylindernumber</th>\n",
       "      <th>enginesize</th>\n",
       "      <th>fuelsystem</th>\n",
       "      <th>boreratio</th>\n",
       "      <th>stroke</th>\n",
       "      <th>compressionratio</th>\n",
       "      <th>horsepower</th>\n",
       "      <th>peakrpm</th>\n",
       "      <th>citympg</th>\n",
       "      <th>highwaympg</th>\n",
       "    </tr>\n",
       "  </thead>\n",
       "  <tbody>\n",
       "    <tr>\n",
       "      <th>30</th>\n",
       "      <td>31</td>\n",
       "      <td>2</td>\n",
       "      <td>honda civic</td>\n",
       "      <td>gas</td>\n",
       "      <td>std</td>\n",
       "      <td>two</td>\n",
       "      <td>hatchback</td>\n",
       "      <td>fwd</td>\n",
       "      <td>front</td>\n",
       "      <td>86.6</td>\n",
       "      <td>...</td>\n",
       "      <td>four</td>\n",
       "      <td>92</td>\n",
       "      <td>1bbl</td>\n",
       "      <td>2.91</td>\n",
       "      <td>3.41</td>\n",
       "      <td>9.60</td>\n",
       "      <td>58</td>\n",
       "      <td>4800</td>\n",
       "      <td>49</td>\n",
       "      <td>54</td>\n",
       "    </tr>\n",
       "    <tr>\n",
       "      <th>192</th>\n",
       "      <td>193</td>\n",
       "      <td>0</td>\n",
       "      <td>volkswagen rabbit custom</td>\n",
       "      <td>diesel</td>\n",
       "      <td>turbo</td>\n",
       "      <td>four</td>\n",
       "      <td>sedan</td>\n",
       "      <td>fwd</td>\n",
       "      <td>front</td>\n",
       "      <td>100.4</td>\n",
       "      <td>...</td>\n",
       "      <td>four</td>\n",
       "      <td>97</td>\n",
       "      <td>idi</td>\n",
       "      <td>3.01</td>\n",
       "      <td>3.40</td>\n",
       "      <td>23.00</td>\n",
       "      <td>68</td>\n",
       "      <td>4500</td>\n",
       "      <td>33</td>\n",
       "      <td>38</td>\n",
       "    </tr>\n",
       "    <tr>\n",
       "      <th>162</th>\n",
       "      <td>163</td>\n",
       "      <td>0</td>\n",
       "      <td>toyota mark ii</td>\n",
       "      <td>gas</td>\n",
       "      <td>std</td>\n",
       "      <td>four</td>\n",
       "      <td>sedan</td>\n",
       "      <td>fwd</td>\n",
       "      <td>front</td>\n",
       "      <td>95.7</td>\n",
       "      <td>...</td>\n",
       "      <td>four</td>\n",
       "      <td>98</td>\n",
       "      <td>2bbl</td>\n",
       "      <td>3.19</td>\n",
       "      <td>3.03</td>\n",
       "      <td>9.00</td>\n",
       "      <td>70</td>\n",
       "      <td>4800</td>\n",
       "      <td>28</td>\n",
       "      <td>34</td>\n",
       "    </tr>\n",
       "    <tr>\n",
       "      <th>29</th>\n",
       "      <td>30</td>\n",
       "      <td>3</td>\n",
       "      <td>dodge coronet custom (sw)</td>\n",
       "      <td>gas</td>\n",
       "      <td>turbo</td>\n",
       "      <td>two</td>\n",
       "      <td>hatchback</td>\n",
       "      <td>fwd</td>\n",
       "      <td>front</td>\n",
       "      <td>95.9</td>\n",
       "      <td>...</td>\n",
       "      <td>four</td>\n",
       "      <td>156</td>\n",
       "      <td>mfi</td>\n",
       "      <td>3.60</td>\n",
       "      <td>3.90</td>\n",
       "      <td>7.00</td>\n",
       "      <td>145</td>\n",
       "      <td>5000</td>\n",
       "      <td>19</td>\n",
       "      <td>24</td>\n",
       "    </tr>\n",
       "    <tr>\n",
       "      <th>39</th>\n",
       "      <td>40</td>\n",
       "      <td>0</td>\n",
       "      <td>honda prelude</td>\n",
       "      <td>gas</td>\n",
       "      <td>std</td>\n",
       "      <td>four</td>\n",
       "      <td>sedan</td>\n",
       "      <td>fwd</td>\n",
       "      <td>front</td>\n",
       "      <td>96.5</td>\n",
       "      <td>...</td>\n",
       "      <td>four</td>\n",
       "      <td>110</td>\n",
       "      <td>1bbl</td>\n",
       "      <td>3.15</td>\n",
       "      <td>3.58</td>\n",
       "      <td>9.00</td>\n",
       "      <td>86</td>\n",
       "      <td>5800</td>\n",
       "      <td>27</td>\n",
       "      <td>33</td>\n",
       "    </tr>\n",
       "    <tr>\n",
       "      <th>...</th>\n",
       "      <td>...</td>\n",
       "      <td>...</td>\n",
       "      <td>...</td>\n",
       "      <td>...</td>\n",
       "      <td>...</td>\n",
       "      <td>...</td>\n",
       "      <td>...</td>\n",
       "      <td>...</td>\n",
       "      <td>...</td>\n",
       "      <td>...</td>\n",
       "      <td>...</td>\n",
       "      <td>...</td>\n",
       "      <td>...</td>\n",
       "      <td>...</td>\n",
       "      <td>...</td>\n",
       "      <td>...</td>\n",
       "      <td>...</td>\n",
       "      <td>...</td>\n",
       "      <td>...</td>\n",
       "      <td>...</td>\n",
       "      <td>...</td>\n",
       "    </tr>\n",
       "    <tr>\n",
       "      <th>132</th>\n",
       "      <td>133</td>\n",
       "      <td>3</td>\n",
       "      <td>saab 99e</td>\n",
       "      <td>gas</td>\n",
       "      <td>std</td>\n",
       "      <td>two</td>\n",
       "      <td>hatchback</td>\n",
       "      <td>fwd</td>\n",
       "      <td>front</td>\n",
       "      <td>99.1</td>\n",
       "      <td>...</td>\n",
       "      <td>four</td>\n",
       "      <td>121</td>\n",
       "      <td>mpfi</td>\n",
       "      <td>3.54</td>\n",
       "      <td>3.07</td>\n",
       "      <td>9.31</td>\n",
       "      <td>110</td>\n",
       "      <td>5250</td>\n",
       "      <td>21</td>\n",
       "      <td>28</td>\n",
       "    </tr>\n",
       "    <tr>\n",
       "      <th>117</th>\n",
       "      <td>118</td>\n",
       "      <td>0</td>\n",
       "      <td>peugeot 604sl</td>\n",
       "      <td>gas</td>\n",
       "      <td>turbo</td>\n",
       "      <td>four</td>\n",
       "      <td>sedan</td>\n",
       "      <td>rwd</td>\n",
       "      <td>front</td>\n",
       "      <td>108.0</td>\n",
       "      <td>...</td>\n",
       "      <td>four</td>\n",
       "      <td>134</td>\n",
       "      <td>mpfi</td>\n",
       "      <td>3.61</td>\n",
       "      <td>3.21</td>\n",
       "      <td>7.00</td>\n",
       "      <td>142</td>\n",
       "      <td>5600</td>\n",
       "      <td>18</td>\n",
       "      <td>24</td>\n",
       "    </tr>\n",
       "    <tr>\n",
       "      <th>14</th>\n",
       "      <td>15</td>\n",
       "      <td>1</td>\n",
       "      <td>bmw z4</td>\n",
       "      <td>gas</td>\n",
       "      <td>std</td>\n",
       "      <td>four</td>\n",
       "      <td>sedan</td>\n",
       "      <td>rwd</td>\n",
       "      <td>front</td>\n",
       "      <td>103.5</td>\n",
       "      <td>...</td>\n",
       "      <td>six</td>\n",
       "      <td>164</td>\n",
       "      <td>mpfi</td>\n",
       "      <td>3.31</td>\n",
       "      <td>3.19</td>\n",
       "      <td>9.00</td>\n",
       "      <td>121</td>\n",
       "      <td>4250</td>\n",
       "      <td>20</td>\n",
       "      <td>25</td>\n",
       "    </tr>\n",
       "    <tr>\n",
       "      <th>109</th>\n",
       "      <td>110</td>\n",
       "      <td>0</td>\n",
       "      <td>peugeot 504 (sw)</td>\n",
       "      <td>gas</td>\n",
       "      <td>std</td>\n",
       "      <td>four</td>\n",
       "      <td>wagon</td>\n",
       "      <td>rwd</td>\n",
       "      <td>front</td>\n",
       "      <td>114.2</td>\n",
       "      <td>...</td>\n",
       "      <td>four</td>\n",
       "      <td>120</td>\n",
       "      <td>mpfi</td>\n",
       "      <td>3.46</td>\n",
       "      <td>3.19</td>\n",
       "      <td>8.40</td>\n",
       "      <td>97</td>\n",
       "      <td>5000</td>\n",
       "      <td>19</td>\n",
       "      <td>24</td>\n",
       "    </tr>\n",
       "    <tr>\n",
       "      <th>85</th>\n",
       "      <td>86</td>\n",
       "      <td>1</td>\n",
       "      <td>mitsubishi montero</td>\n",
       "      <td>gas</td>\n",
       "      <td>std</td>\n",
       "      <td>four</td>\n",
       "      <td>sedan</td>\n",
       "      <td>fwd</td>\n",
       "      <td>front</td>\n",
       "      <td>96.3</td>\n",
       "      <td>...</td>\n",
       "      <td>four</td>\n",
       "      <td>122</td>\n",
       "      <td>2bbl</td>\n",
       "      <td>3.35</td>\n",
       "      <td>3.46</td>\n",
       "      <td>8.50</td>\n",
       "      <td>88</td>\n",
       "      <td>5000</td>\n",
       "      <td>25</td>\n",
       "      <td>32</td>\n",
       "    </tr>\n",
       "  </tbody>\n",
       "</table>\n",
       "<p>62 rows × 25 columns</p>\n",
       "</div>"
      ],
      "text/plain": [
       "     car_ID  symboling                    CarName fueltype aspiration  \\\n",
       "30       31          2                honda civic      gas        std   \n",
       "192     193          0   volkswagen rabbit custom   diesel      turbo   \n",
       "162     163          0             toyota mark ii      gas        std   \n",
       "29       30          3  dodge coronet custom (sw)      gas      turbo   \n",
       "39       40          0              honda prelude      gas        std   \n",
       "..      ...        ...                        ...      ...        ...   \n",
       "132     133          3                   saab 99e      gas        std   \n",
       "117     118          0              peugeot 604sl      gas      turbo   \n",
       "14       15          1                     bmw z4      gas        std   \n",
       "109     110          0           peugeot 504 (sw)      gas        std   \n",
       "85       86          1         mitsubishi montero      gas        std   \n",
       "\n",
       "    doornumber    carbody drivewheel enginelocation  wheelbase  ...  \\\n",
       "30         two  hatchback        fwd          front       86.6  ...   \n",
       "192       four      sedan        fwd          front      100.4  ...   \n",
       "162       four      sedan        fwd          front       95.7  ...   \n",
       "29         two  hatchback        fwd          front       95.9  ...   \n",
       "39        four      sedan        fwd          front       96.5  ...   \n",
       "..         ...        ...        ...            ...        ...  ...   \n",
       "132        two  hatchback        fwd          front       99.1  ...   \n",
       "117       four      sedan        rwd          front      108.0  ...   \n",
       "14        four      sedan        rwd          front      103.5  ...   \n",
       "109       four      wagon        rwd          front      114.2  ...   \n",
       "85        four      sedan        fwd          front       96.3  ...   \n",
       "\n",
       "     cylindernumber  enginesize  fuelsystem  boreratio stroke  \\\n",
       "30             four          92        1bbl       2.91   3.41   \n",
       "192            four          97         idi       3.01   3.40   \n",
       "162            four          98        2bbl       3.19   3.03   \n",
       "29             four         156         mfi       3.60   3.90   \n",
       "39             four         110        1bbl       3.15   3.58   \n",
       "..              ...         ...         ...        ...    ...   \n",
       "132            four         121        mpfi       3.54   3.07   \n",
       "117            four         134        mpfi       3.61   3.21   \n",
       "14              six         164        mpfi       3.31   3.19   \n",
       "109            four         120        mpfi       3.46   3.19   \n",
       "85             four         122        2bbl       3.35   3.46   \n",
       "\n",
       "    compressionratio  horsepower peakrpm  citympg  highwaympg  \n",
       "30              9.60          58    4800       49          54  \n",
       "192            23.00          68    4500       33          38  \n",
       "162             9.00          70    4800       28          34  \n",
       "29              7.00         145    5000       19          24  \n",
       "39              9.00          86    5800       27          33  \n",
       "..               ...         ...     ...      ...         ...  \n",
       "132             9.31         110    5250       21          28  \n",
       "117             7.00         142    5600       18          24  \n",
       "14              9.00         121    4250       20          25  \n",
       "109             8.40          97    5000       19          24  \n",
       "85              8.50          88    5000       25          32  \n",
       "\n",
       "[62 rows x 25 columns]"
      ]
     },
     "execution_count": 15,
     "metadata": {},
     "output_type": "execute_result"
    }
   ],
   "source": [
    "X_test"
   ]
  },
  {
   "cell_type": "code",
   "execution_count": 16,
   "id": "868b614c-e809-499c-9b82-c11b31a96f9f",
   "metadata": {},
   "outputs": [],
   "source": [
    "from sklearn.linear_model import LinearRegression"
   ]
  },
  {
   "cell_type": "code",
   "execution_count": 17,
   "id": "e68e5b3e-399c-4bec-8dd7-c8e2cb4c08d6",
   "metadata": {},
   "outputs": [],
   "source": [
    "from sklearn.preprocessing import OneHotEncoder\n",
    "from sklearn.compose import make_column_transformer\n",
    "from sklearn.pipeline import make_pipeline\n",
    "from sklearn.metrics import r2_score"
   ]
  },
  {
   "cell_type": "code",
   "execution_count": 18,
   "id": "fb83e10a-8f62-4a7a-80b0-74ec778db095",
   "metadata": {},
   "outputs": [
    {
     "data": {
      "text/html": [
       "<style>#sk-container-id-1 {color: black;}#sk-container-id-1 pre{padding: 0;}#sk-container-id-1 div.sk-toggleable {background-color: white;}#sk-container-id-1 label.sk-toggleable__label {cursor: pointer;display: block;width: 100%;margin-bottom: 0;padding: 0.3em;box-sizing: border-box;text-align: center;}#sk-container-id-1 label.sk-toggleable__label-arrow:before {content: \"▸\";float: left;margin-right: 0.25em;color: #696969;}#sk-container-id-1 label.sk-toggleable__label-arrow:hover:before {color: black;}#sk-container-id-1 div.sk-estimator:hover label.sk-toggleable__label-arrow:before {color: black;}#sk-container-id-1 div.sk-toggleable__content {max-height: 0;max-width: 0;overflow: hidden;text-align: left;background-color: #f0f8ff;}#sk-container-id-1 div.sk-toggleable__content pre {margin: 0.2em;color: black;border-radius: 0.25em;background-color: #f0f8ff;}#sk-container-id-1 input.sk-toggleable__control:checked~div.sk-toggleable__content {max-height: 200px;max-width: 100%;overflow: auto;}#sk-container-id-1 input.sk-toggleable__control:checked~label.sk-toggleable__label-arrow:before {content: \"▾\";}#sk-container-id-1 div.sk-estimator input.sk-toggleable__control:checked~label.sk-toggleable__label {background-color: #d4ebff;}#sk-container-id-1 div.sk-label input.sk-toggleable__control:checked~label.sk-toggleable__label {background-color: #d4ebff;}#sk-container-id-1 input.sk-hidden--visually {border: 0;clip: rect(1px 1px 1px 1px);clip: rect(1px, 1px, 1px, 1px);height: 1px;margin: -1px;overflow: hidden;padding: 0;position: absolute;width: 1px;}#sk-container-id-1 div.sk-estimator {font-family: monospace;background-color: #f0f8ff;border: 1px dotted black;border-radius: 0.25em;box-sizing: border-box;margin-bottom: 0.5em;}#sk-container-id-1 div.sk-estimator:hover {background-color: #d4ebff;}#sk-container-id-1 div.sk-parallel-item::after {content: \"\";width: 100%;border-bottom: 1px solid gray;flex-grow: 1;}#sk-container-id-1 div.sk-label:hover label.sk-toggleable__label {background-color: #d4ebff;}#sk-container-id-1 div.sk-serial::before {content: \"\";position: absolute;border-left: 1px solid gray;box-sizing: border-box;top: 0;bottom: 0;left: 50%;z-index: 0;}#sk-container-id-1 div.sk-serial {display: flex;flex-direction: column;align-items: center;background-color: white;padding-right: 0.2em;padding-left: 0.2em;position: relative;}#sk-container-id-1 div.sk-item {position: relative;z-index: 1;}#sk-container-id-1 div.sk-parallel {display: flex;align-items: stretch;justify-content: center;background-color: white;position: relative;}#sk-container-id-1 div.sk-item::before, #sk-container-id-1 div.sk-parallel-item::before {content: \"\";position: absolute;border-left: 1px solid gray;box-sizing: border-box;top: 0;bottom: 0;left: 50%;z-index: -1;}#sk-container-id-1 div.sk-parallel-item {display: flex;flex-direction: column;z-index: 1;position: relative;background-color: white;}#sk-container-id-1 div.sk-parallel-item:first-child::after {align-self: flex-end;width: 50%;}#sk-container-id-1 div.sk-parallel-item:last-child::after {align-self: flex-start;width: 50%;}#sk-container-id-1 div.sk-parallel-item:only-child::after {width: 0;}#sk-container-id-1 div.sk-dashed-wrapped {border: 1px dashed gray;margin: 0 0.4em 0.5em 0.4em;box-sizing: border-box;padding-bottom: 0.4em;background-color: white;}#sk-container-id-1 div.sk-label label {font-family: monospace;font-weight: bold;display: inline-block;line-height: 1.2em;}#sk-container-id-1 div.sk-label-container {text-align: center;}#sk-container-id-1 div.sk-container {/* jupyter's `normalize.less` sets `[hidden] { display: none; }` but bootstrap.min.css set `[hidden] { display: none !important; }` so we also need the `!important` here to be able to override the default hidden behavior on the sphinx rendered scikit-learn.org. See: https://github.com/scikit-learn/scikit-learn/issues/21755 */display: inline-block !important;position: relative;}#sk-container-id-1 div.sk-text-repr-fallback {display: none;}</style><div id=\"sk-container-id-1\" class=\"sk-top-container\"><div class=\"sk-text-repr-fallback\"><pre>OneHotEncoder()</pre><b>In a Jupyter environment, please rerun this cell to show the HTML representation or trust the notebook. <br />On GitHub, the HTML representation is unable to render, please try loading this page with nbviewer.org.</b></div><div class=\"sk-container\" hidden><div class=\"sk-item\"><div class=\"sk-estimator sk-toggleable\"><input class=\"sk-toggleable__control sk-hidden--visually\" id=\"sk-estimator-id-1\" type=\"checkbox\" checked><label for=\"sk-estimator-id-1\" class=\"sk-toggleable__label sk-toggleable__label-arrow\">OneHotEncoder</label><div class=\"sk-toggleable__content\"><pre>OneHotEncoder()</pre></div></div></div></div></div>"
      ],
      "text/plain": [
       "OneHotEncoder()"
      ]
     },
     "execution_count": 18,
     "metadata": {},
     "output_type": "execute_result"
    }
   ],
   "source": [
    "ohe=OneHotEncoder()\n",
    "ohe.fit(X[[\"CarName\", \"fueltype\", \"aspiration\", \"doornumber\", \"carbody\", \"drivewheel\", \"enginelocation\", \"enginetype\", \"cylindernumber\", \"fuelsystem\"]])"
   ]
  },
  {
   "cell_type": "code",
   "execution_count": 19,
   "id": "03a7db30-f575-41a6-8935-08183688b225",
   "metadata": {},
   "outputs": [],
   "source": [
    "column_trans=make_column_transformer((OneHotEncoder(categories=ohe.categories_),[\"CarName\", \"fueltype\", \"aspiration\", \"doornumber\", \"carbody\", \"drivewheel\", \"enginelocation\", \"enginetype\", \"cylindernumber\", \"fuelsystem\"]),\n",
    "                                    remainder='passthrough')"
   ]
  },
  {
   "cell_type": "code",
   "execution_count": 20,
   "id": "b3d86914-6261-46eb-9b77-ee3251178a04",
   "metadata": {},
   "outputs": [
    {
     "name": "stdout",
     "output_type": "stream",
     "text": [
      "R^2 Score: -1.8252695294761825\n"
     ]
    }
   ],
   "source": [
    "from sklearn.preprocessing import StandardScaler, OneHotEncoder\n",
    "from sklearn.compose import ColumnTransformer\n",
    "from sklearn.pipeline import Pipeline\n",
    "from sklearn.model_selection import train_test_split\n",
    "from sklearn.linear_model import LinearRegression\n",
    "from sklearn.metrics import r2_score\n",
    "\n",
    "# Define the columns that need one-hot encoding and scaling\n",
    "categorical_cols = [\"CarName\", \"fueltype\", \"aspiration\", \"doornumber\", \"carbody\", \"drivewheel\", \"enginelocation\", \"enginetype\", \"cylindernumber\", \"fuelsystem\"]\n",
    "numeric_cols = [\"car_ID\", \"symboling\", \"wheelbase\", \"carlength\", \"carwidth\", \"carheight\", \"curbweight\", \"enginesize\", \"boreratio\", \"stroke\", \"compressionratio\", \"horsepower\", \"peakrpm\", \"citympg\", \"highwaympg\"]\n",
    " \n",
    "\n",
    "# Split the data into training and testing sets\n",
    "X_train, X_test, y_train, y_test = train_test_split(X, y, test_size=0.3, random_state=42)\n",
    "\n",
    "# Define the preprocessing steps\n",
    "numeric_transformer = Pipeline(steps=[\n",
    "    ('scaler', StandardScaler())\n",
    "])\n",
    "\n",
    "categorical_transformer = Pipeline(steps=[\n",
    "    ('onehot', OneHotEncoder(handle_unknown='ignore'))\n",
    "])\n",
    "\n",
    "# Combine preprocessing steps using ColumnTransformer\n",
    "preprocessor = ColumnTransformer(\n",
    "    transformers=[\n",
    "        ('num', numeric_transformer, numeric_cols),\n",
    "        ('cat', categorical_transformer, categorical_cols)\n",
    "    ])\n",
    "\n",
    "# Create a pipeline with preprocessing and linear regression\n",
    "pipe = Pipeline(steps=[('preprocessor', preprocessor),\n",
    "                       ('regressor', LinearRegression())])\n",
    "\n",
    "# Fit the pipeline on the training data\n",
    "pipe.fit(X_train, y_train)\n",
    "\n",
    "# Make predictions on the testing data\n",
    "y_pred = pipe.predict(X_test)\n",
    "\n",
    "# Calculate R^2 score\n",
    "r2 = r2_score(y_test, y_pred)\n",
    "print(\"R^2 Score:\", r2)\n"
   ]
  },
  {
   "cell_type": "code",
   "execution_count": 21,
   "id": "7e8a957d-1c27-49eb-9f6e-b357a58e104f",
   "metadata": {},
   "outputs": [],
   "source": [
    "lr=LinearRegression()"
   ]
  },
  {
   "cell_type": "code",
   "execution_count": 22,
   "id": "06ed8924-0d38-4131-9eed-de2a71e1f0ff",
   "metadata": {},
   "outputs": [],
   "source": [
    "pipe=make_pipeline(column_trans,lr)"
   ]
  },
  {
   "cell_type": "code",
   "execution_count": 23,
   "id": "d7b5900d-c3c6-4e28-b496-ce37d1e4af7a",
   "metadata": {},
   "outputs": [
    {
     "data": {
      "text/html": [
       "<style>#sk-container-id-2 {color: black;}#sk-container-id-2 pre{padding: 0;}#sk-container-id-2 div.sk-toggleable {background-color: white;}#sk-container-id-2 label.sk-toggleable__label {cursor: pointer;display: block;width: 100%;margin-bottom: 0;padding: 0.3em;box-sizing: border-box;text-align: center;}#sk-container-id-2 label.sk-toggleable__label-arrow:before {content: \"▸\";float: left;margin-right: 0.25em;color: #696969;}#sk-container-id-2 label.sk-toggleable__label-arrow:hover:before {color: black;}#sk-container-id-2 div.sk-estimator:hover label.sk-toggleable__label-arrow:before {color: black;}#sk-container-id-2 div.sk-toggleable__content {max-height: 0;max-width: 0;overflow: hidden;text-align: left;background-color: #f0f8ff;}#sk-container-id-2 div.sk-toggleable__content pre {margin: 0.2em;color: black;border-radius: 0.25em;background-color: #f0f8ff;}#sk-container-id-2 input.sk-toggleable__control:checked~div.sk-toggleable__content {max-height: 200px;max-width: 100%;overflow: auto;}#sk-container-id-2 input.sk-toggleable__control:checked~label.sk-toggleable__label-arrow:before {content: \"▾\";}#sk-container-id-2 div.sk-estimator input.sk-toggleable__control:checked~label.sk-toggleable__label {background-color: #d4ebff;}#sk-container-id-2 div.sk-label input.sk-toggleable__control:checked~label.sk-toggleable__label {background-color: #d4ebff;}#sk-container-id-2 input.sk-hidden--visually {border: 0;clip: rect(1px 1px 1px 1px);clip: rect(1px, 1px, 1px, 1px);height: 1px;margin: -1px;overflow: hidden;padding: 0;position: absolute;width: 1px;}#sk-container-id-2 div.sk-estimator {font-family: monospace;background-color: #f0f8ff;border: 1px dotted black;border-radius: 0.25em;box-sizing: border-box;margin-bottom: 0.5em;}#sk-container-id-2 div.sk-estimator:hover {background-color: #d4ebff;}#sk-container-id-2 div.sk-parallel-item::after {content: \"\";width: 100%;border-bottom: 1px solid gray;flex-grow: 1;}#sk-container-id-2 div.sk-label:hover label.sk-toggleable__label {background-color: #d4ebff;}#sk-container-id-2 div.sk-serial::before {content: \"\";position: absolute;border-left: 1px solid gray;box-sizing: border-box;top: 0;bottom: 0;left: 50%;z-index: 0;}#sk-container-id-2 div.sk-serial {display: flex;flex-direction: column;align-items: center;background-color: white;padding-right: 0.2em;padding-left: 0.2em;position: relative;}#sk-container-id-2 div.sk-item {position: relative;z-index: 1;}#sk-container-id-2 div.sk-parallel {display: flex;align-items: stretch;justify-content: center;background-color: white;position: relative;}#sk-container-id-2 div.sk-item::before, #sk-container-id-2 div.sk-parallel-item::before {content: \"\";position: absolute;border-left: 1px solid gray;box-sizing: border-box;top: 0;bottom: 0;left: 50%;z-index: -1;}#sk-container-id-2 div.sk-parallel-item {display: flex;flex-direction: column;z-index: 1;position: relative;background-color: white;}#sk-container-id-2 div.sk-parallel-item:first-child::after {align-self: flex-end;width: 50%;}#sk-container-id-2 div.sk-parallel-item:last-child::after {align-self: flex-start;width: 50%;}#sk-container-id-2 div.sk-parallel-item:only-child::after {width: 0;}#sk-container-id-2 div.sk-dashed-wrapped {border: 1px dashed gray;margin: 0 0.4em 0.5em 0.4em;box-sizing: border-box;padding-bottom: 0.4em;background-color: white;}#sk-container-id-2 div.sk-label label {font-family: monospace;font-weight: bold;display: inline-block;line-height: 1.2em;}#sk-container-id-2 div.sk-label-container {text-align: center;}#sk-container-id-2 div.sk-container {/* jupyter's `normalize.less` sets `[hidden] { display: none; }` but bootstrap.min.css set `[hidden] { display: none !important; }` so we also need the `!important` here to be able to override the default hidden behavior on the sphinx rendered scikit-learn.org. See: https://github.com/scikit-learn/scikit-learn/issues/21755 */display: inline-block !important;position: relative;}#sk-container-id-2 div.sk-text-repr-fallback {display: none;}</style><div id=\"sk-container-id-2\" class=\"sk-top-container\"><div class=\"sk-text-repr-fallback\"><pre>Pipeline(steps=[(&#x27;columntransformer&#x27;,\n",
       "                 ColumnTransformer(remainder=&#x27;passthrough&#x27;,\n",
       "                                   transformers=[(&#x27;onehotencoder&#x27;,\n",
       "                                                  OneHotEncoder(categories=[array([&#x27;Nissan versa&#x27;, &#x27;alfa-romero Quadrifoglio&#x27;, &#x27;alfa-romero giulia&#x27;,\n",
       "       &#x27;alfa-romero stelvio&#x27;, &#x27;audi 100 ls&#x27;, &#x27;audi 100ls&#x27;, &#x27;audi 4000&#x27;,\n",
       "       &#x27;audi 5000&#x27;, &#x27;audi 5000s (diesel)&#x27;, &#x27;audi fox&#x27;, &#x27;bmw 320i&#x27;,\n",
       "       &#x27;bmw x1&#x27;, &#x27;bmw x3&#x27;, &#x27;bmw x4&#x27;, &#x27;bmw x5&#x27;, &#x27;bmw z4&#x27;,...\n",
       "                                                                            array([&#x27;dohc&#x27;, &#x27;dohcv&#x27;, &#x27;l&#x27;, &#x27;ohc&#x27;, &#x27;ohcf&#x27;, &#x27;ohcv&#x27;, &#x27;rotor&#x27;], dtype=object),\n",
       "                                                                            array([&#x27;eight&#x27;, &#x27;five&#x27;, &#x27;four&#x27;, &#x27;six&#x27;, &#x27;three&#x27;, &#x27;twelve&#x27;, &#x27;two&#x27;],\n",
       "      dtype=object),\n",
       "                                                                            array([&#x27;1bbl&#x27;, &#x27;2bbl&#x27;, &#x27;4bbl&#x27;, &#x27;idi&#x27;, &#x27;mfi&#x27;, &#x27;mpfi&#x27;, &#x27;spdi&#x27;, &#x27;spfi&#x27;],\n",
       "      dtype=object)]),\n",
       "                                                  [&#x27;CarName&#x27;, &#x27;fueltype&#x27;,\n",
       "                                                   &#x27;aspiration&#x27;, &#x27;doornumber&#x27;,\n",
       "                                                   &#x27;carbody&#x27;, &#x27;drivewheel&#x27;,\n",
       "                                                   &#x27;enginelocation&#x27;,\n",
       "                                                   &#x27;enginetype&#x27;,\n",
       "                                                   &#x27;cylindernumber&#x27;,\n",
       "                                                   &#x27;fuelsystem&#x27;])])),\n",
       "                (&#x27;linearregression&#x27;, LinearRegression())])</pre><b>In a Jupyter environment, please rerun this cell to show the HTML representation or trust the notebook. <br />On GitHub, the HTML representation is unable to render, please try loading this page with nbviewer.org.</b></div><div class=\"sk-container\" hidden><div class=\"sk-item sk-dashed-wrapped\"><div class=\"sk-label-container\"><div class=\"sk-label sk-toggleable\"><input class=\"sk-toggleable__control sk-hidden--visually\" id=\"sk-estimator-id-2\" type=\"checkbox\" ><label for=\"sk-estimator-id-2\" class=\"sk-toggleable__label sk-toggleable__label-arrow\">Pipeline</label><div class=\"sk-toggleable__content\"><pre>Pipeline(steps=[(&#x27;columntransformer&#x27;,\n",
       "                 ColumnTransformer(remainder=&#x27;passthrough&#x27;,\n",
       "                                   transformers=[(&#x27;onehotencoder&#x27;,\n",
       "                                                  OneHotEncoder(categories=[array([&#x27;Nissan versa&#x27;, &#x27;alfa-romero Quadrifoglio&#x27;, &#x27;alfa-romero giulia&#x27;,\n",
       "       &#x27;alfa-romero stelvio&#x27;, &#x27;audi 100 ls&#x27;, &#x27;audi 100ls&#x27;, &#x27;audi 4000&#x27;,\n",
       "       &#x27;audi 5000&#x27;, &#x27;audi 5000s (diesel)&#x27;, &#x27;audi fox&#x27;, &#x27;bmw 320i&#x27;,\n",
       "       &#x27;bmw x1&#x27;, &#x27;bmw x3&#x27;, &#x27;bmw x4&#x27;, &#x27;bmw x5&#x27;, &#x27;bmw z4&#x27;,...\n",
       "                                                                            array([&#x27;dohc&#x27;, &#x27;dohcv&#x27;, &#x27;l&#x27;, &#x27;ohc&#x27;, &#x27;ohcf&#x27;, &#x27;ohcv&#x27;, &#x27;rotor&#x27;], dtype=object),\n",
       "                                                                            array([&#x27;eight&#x27;, &#x27;five&#x27;, &#x27;four&#x27;, &#x27;six&#x27;, &#x27;three&#x27;, &#x27;twelve&#x27;, &#x27;two&#x27;],\n",
       "      dtype=object),\n",
       "                                                                            array([&#x27;1bbl&#x27;, &#x27;2bbl&#x27;, &#x27;4bbl&#x27;, &#x27;idi&#x27;, &#x27;mfi&#x27;, &#x27;mpfi&#x27;, &#x27;spdi&#x27;, &#x27;spfi&#x27;],\n",
       "      dtype=object)]),\n",
       "                                                  [&#x27;CarName&#x27;, &#x27;fueltype&#x27;,\n",
       "                                                   &#x27;aspiration&#x27;, &#x27;doornumber&#x27;,\n",
       "                                                   &#x27;carbody&#x27;, &#x27;drivewheel&#x27;,\n",
       "                                                   &#x27;enginelocation&#x27;,\n",
       "                                                   &#x27;enginetype&#x27;,\n",
       "                                                   &#x27;cylindernumber&#x27;,\n",
       "                                                   &#x27;fuelsystem&#x27;])])),\n",
       "                (&#x27;linearregression&#x27;, LinearRegression())])</pre></div></div></div><div class=\"sk-serial\"><div class=\"sk-item sk-dashed-wrapped\"><div class=\"sk-label-container\"><div class=\"sk-label sk-toggleable\"><input class=\"sk-toggleable__control sk-hidden--visually\" id=\"sk-estimator-id-3\" type=\"checkbox\" ><label for=\"sk-estimator-id-3\" class=\"sk-toggleable__label sk-toggleable__label-arrow\">columntransformer: ColumnTransformer</label><div class=\"sk-toggleable__content\"><pre>ColumnTransformer(remainder=&#x27;passthrough&#x27;,\n",
       "                  transformers=[(&#x27;onehotencoder&#x27;,\n",
       "                                 OneHotEncoder(categories=[array([&#x27;Nissan versa&#x27;, &#x27;alfa-romero Quadrifoglio&#x27;, &#x27;alfa-romero giulia&#x27;,\n",
       "       &#x27;alfa-romero stelvio&#x27;, &#x27;audi 100 ls&#x27;, &#x27;audi 100ls&#x27;, &#x27;audi 4000&#x27;,\n",
       "       &#x27;audi 5000&#x27;, &#x27;audi 5000s (diesel)&#x27;, &#x27;audi fox&#x27;, &#x27;bmw 320i&#x27;,\n",
       "       &#x27;bmw x1&#x27;, &#x27;bmw x3&#x27;, &#x27;bmw x4&#x27;, &#x27;bmw x5&#x27;, &#x27;bmw z4&#x27;, &#x27;buick century&#x27;,\n",
       "       &#x27;buick century luxus (sw)...\n",
       "                                                           array([&#x27;dohc&#x27;, &#x27;dohcv&#x27;, &#x27;l&#x27;, &#x27;ohc&#x27;, &#x27;ohcf&#x27;, &#x27;ohcv&#x27;, &#x27;rotor&#x27;], dtype=object),\n",
       "                                                           array([&#x27;eight&#x27;, &#x27;five&#x27;, &#x27;four&#x27;, &#x27;six&#x27;, &#x27;three&#x27;, &#x27;twelve&#x27;, &#x27;two&#x27;],\n",
       "      dtype=object),\n",
       "                                                           array([&#x27;1bbl&#x27;, &#x27;2bbl&#x27;, &#x27;4bbl&#x27;, &#x27;idi&#x27;, &#x27;mfi&#x27;, &#x27;mpfi&#x27;, &#x27;spdi&#x27;, &#x27;spfi&#x27;],\n",
       "      dtype=object)]),\n",
       "                                 [&#x27;CarName&#x27;, &#x27;fueltype&#x27;, &#x27;aspiration&#x27;,\n",
       "                                  &#x27;doornumber&#x27;, &#x27;carbody&#x27;, &#x27;drivewheel&#x27;,\n",
       "                                  &#x27;enginelocation&#x27;, &#x27;enginetype&#x27;,\n",
       "                                  &#x27;cylindernumber&#x27;, &#x27;fuelsystem&#x27;])])</pre></div></div></div><div class=\"sk-parallel\"><div class=\"sk-parallel-item\"><div class=\"sk-item\"><div class=\"sk-label-container\"><div class=\"sk-label sk-toggleable\"><input class=\"sk-toggleable__control sk-hidden--visually\" id=\"sk-estimator-id-4\" type=\"checkbox\" ><label for=\"sk-estimator-id-4\" class=\"sk-toggleable__label sk-toggleable__label-arrow\">onehotencoder</label><div class=\"sk-toggleable__content\"><pre>[&#x27;CarName&#x27;, &#x27;fueltype&#x27;, &#x27;aspiration&#x27;, &#x27;doornumber&#x27;, &#x27;carbody&#x27;, &#x27;drivewheel&#x27;, &#x27;enginelocation&#x27;, &#x27;enginetype&#x27;, &#x27;cylindernumber&#x27;, &#x27;fuelsystem&#x27;]</pre></div></div></div><div class=\"sk-serial\"><div class=\"sk-item\"><div class=\"sk-estimator sk-toggleable\"><input class=\"sk-toggleable__control sk-hidden--visually\" id=\"sk-estimator-id-5\" type=\"checkbox\" ><label for=\"sk-estimator-id-5\" class=\"sk-toggleable__label sk-toggleable__label-arrow\">OneHotEncoder</label><div class=\"sk-toggleable__content\"><pre>OneHotEncoder(categories=[array([&#x27;Nissan versa&#x27;, &#x27;alfa-romero Quadrifoglio&#x27;, &#x27;alfa-romero giulia&#x27;,\n",
       "       &#x27;alfa-romero stelvio&#x27;, &#x27;audi 100 ls&#x27;, &#x27;audi 100ls&#x27;, &#x27;audi 4000&#x27;,\n",
       "       &#x27;audi 5000&#x27;, &#x27;audi 5000s (diesel)&#x27;, &#x27;audi fox&#x27;, &#x27;bmw 320i&#x27;,\n",
       "       &#x27;bmw x1&#x27;, &#x27;bmw x3&#x27;, &#x27;bmw x4&#x27;, &#x27;bmw x5&#x27;, &#x27;bmw z4&#x27;, &#x27;buick century&#x27;,\n",
       "       &#x27;buick century luxus (sw)&#x27;, &#x27;buick century special&#x27;,\n",
       "       &#x27;buick electra 225 custom&#x27;, &#x27;buick opel isuzu deluxe&#x27;,\n",
       "       &#x27;b...\n",
       "                          array([&#x27;convertible&#x27;, &#x27;hardtop&#x27;, &#x27;hatchback&#x27;, &#x27;sedan&#x27;, &#x27;wagon&#x27;],\n",
       "      dtype=object),\n",
       "                          array([&#x27;4wd&#x27;, &#x27;fwd&#x27;, &#x27;rwd&#x27;], dtype=object),\n",
       "                          array([&#x27;front&#x27;, &#x27;rear&#x27;], dtype=object),\n",
       "                          array([&#x27;dohc&#x27;, &#x27;dohcv&#x27;, &#x27;l&#x27;, &#x27;ohc&#x27;, &#x27;ohcf&#x27;, &#x27;ohcv&#x27;, &#x27;rotor&#x27;], dtype=object),\n",
       "                          array([&#x27;eight&#x27;, &#x27;five&#x27;, &#x27;four&#x27;, &#x27;six&#x27;, &#x27;three&#x27;, &#x27;twelve&#x27;, &#x27;two&#x27;],\n",
       "      dtype=object),\n",
       "                          array([&#x27;1bbl&#x27;, &#x27;2bbl&#x27;, &#x27;4bbl&#x27;, &#x27;idi&#x27;, &#x27;mfi&#x27;, &#x27;mpfi&#x27;, &#x27;spdi&#x27;, &#x27;spfi&#x27;],\n",
       "      dtype=object)])</pre></div></div></div></div></div></div><div class=\"sk-parallel-item\"><div class=\"sk-item\"><div class=\"sk-label-container\"><div class=\"sk-label sk-toggleable\"><input class=\"sk-toggleable__control sk-hidden--visually\" id=\"sk-estimator-id-6\" type=\"checkbox\" ><label for=\"sk-estimator-id-6\" class=\"sk-toggleable__label sk-toggleable__label-arrow\">remainder</label><div class=\"sk-toggleable__content\"><pre>[&#x27;car_ID&#x27;, &#x27;symboling&#x27;, &#x27;wheelbase&#x27;, &#x27;carlength&#x27;, &#x27;carwidth&#x27;, &#x27;carheight&#x27;, &#x27;curbweight&#x27;, &#x27;enginesize&#x27;, &#x27;boreratio&#x27;, &#x27;stroke&#x27;, &#x27;compressionratio&#x27;, &#x27;horsepower&#x27;, &#x27;peakrpm&#x27;, &#x27;citympg&#x27;, &#x27;highwaympg&#x27;]</pre></div></div></div><div class=\"sk-serial\"><div class=\"sk-item\"><div class=\"sk-estimator sk-toggleable\"><input class=\"sk-toggleable__control sk-hidden--visually\" id=\"sk-estimator-id-7\" type=\"checkbox\" ><label for=\"sk-estimator-id-7\" class=\"sk-toggleable__label sk-toggleable__label-arrow\">passthrough</label><div class=\"sk-toggleable__content\"><pre>passthrough</pre></div></div></div></div></div></div></div></div><div class=\"sk-item\"><div class=\"sk-estimator sk-toggleable\"><input class=\"sk-toggleable__control sk-hidden--visually\" id=\"sk-estimator-id-8\" type=\"checkbox\" ><label for=\"sk-estimator-id-8\" class=\"sk-toggleable__label sk-toggleable__label-arrow\">LinearRegression</label><div class=\"sk-toggleable__content\"><pre>LinearRegression()</pre></div></div></div></div></div></div></div>"
      ],
      "text/plain": [
       "Pipeline(steps=[('columntransformer',\n",
       "                 ColumnTransformer(remainder='passthrough',\n",
       "                                   transformers=[('onehotencoder',\n",
       "                                                  OneHotEncoder(categories=[array(['Nissan versa', 'alfa-romero Quadrifoglio', 'alfa-romero giulia',\n",
       "       'alfa-romero stelvio', 'audi 100 ls', 'audi 100ls', 'audi 4000',\n",
       "       'audi 5000', 'audi 5000s (diesel)', 'audi fox', 'bmw 320i',\n",
       "       'bmw x1', 'bmw x3', 'bmw x4', 'bmw x5', 'bmw z4',...\n",
       "                                                                            array(['dohc', 'dohcv', 'l', 'ohc', 'ohcf', 'ohcv', 'rotor'], dtype=object),\n",
       "                                                                            array(['eight', 'five', 'four', 'six', 'three', 'twelve', 'two'],\n",
       "      dtype=object),\n",
       "                                                                            array(['1bbl', '2bbl', '4bbl', 'idi', 'mfi', 'mpfi', 'spdi', 'spfi'],\n",
       "      dtype=object)]),\n",
       "                                                  ['CarName', 'fueltype',\n",
       "                                                   'aspiration', 'doornumber',\n",
       "                                                   'carbody', 'drivewheel',\n",
       "                                                   'enginelocation',\n",
       "                                                   'enginetype',\n",
       "                                                   'cylindernumber',\n",
       "                                                   'fuelsystem'])])),\n",
       "                ('linearregression', LinearRegression())])"
      ]
     },
     "execution_count": 23,
     "metadata": {},
     "output_type": "execute_result"
    }
   ],
   "source": [
    "pipe.fit(X_train,y_train)"
   ]
  },
  {
   "cell_type": "code",
   "execution_count": 24,
   "id": "a9a654ce-aea0-47c4-8b6e-617218e85b26",
   "metadata": {},
   "outputs": [],
   "source": [
    "y_pred=pipe.predict(X_test)"
   ]
  },
  {
   "cell_type": "code",
   "execution_count": 25,
   "id": "31090162-a9e7-4a0a-85af-af1fd53d916d",
   "metadata": {},
   "outputs": [
    {
     "data": {
      "text/plain": [
       "0.6085770333844855"
      ]
     },
     "execution_count": 25,
     "metadata": {},
     "output_type": "execute_result"
    }
   ],
   "source": [
    "r2_score(y_test,y_pred)"
   ]
  },
  {
   "cell_type": "code",
   "execution_count": 26,
   "id": "c04d70e3-6105-403b-ad93-a31b9a7b77dc",
   "metadata": {},
   "outputs": [],
   "source": [
    "scores=[]\n",
    "for i in range(206):\n",
    "    X_train,X_test,y_train,y_test=train_test_split(X,y,test_size=0.3,random_state=i)\n",
    "    lr=LinearRegression()\n",
    "    pipe=make_pipeline(column_trans,lr)\n",
    "    pipe.fit(X_train,y_train)\n",
    "    y_pred=pipe.predict(X_test)\n",
    "    scores.append(r2_score(y_test,y_pred))\n",
    "    "
   ]
  },
  {
   "cell_type": "code",
   "execution_count": 27,
   "id": "0456e5d8-79c9-4381-974c-d0489819c3f6",
   "metadata": {},
   "outputs": [
    {
     "data": {
      "text/plain": [
       "66"
      ]
     },
     "execution_count": 27,
     "metadata": {},
     "output_type": "execute_result"
    }
   ],
   "source": [
    "np.argmax(scores)\n"
   ]
  },
  {
   "cell_type": "code",
   "execution_count": 28,
   "id": "894655ab-9ffe-47e0-b549-1021c8ebbf00",
   "metadata": {},
   "outputs": [
    {
     "data": {
      "text/plain": [
       "0.8818614899792175"
      ]
     },
     "execution_count": 28,
     "metadata": {},
     "output_type": "execute_result"
    }
   ],
   "source": [
    "scores[np.argmax(scores)]"
   ]
  },
  {
   "cell_type": "code",
   "execution_count": 29,
   "id": "73d549a4-516a-4390-a089-e280fdf06722",
   "metadata": {},
   "outputs": [
    {
     "data": {
      "text/plain": [
       "array([13515.32016036])"
      ]
     },
     "execution_count": 29,
     "metadata": {},
     "output_type": "execute_result"
    }
   ],
   "source": [
    "pipe.predict(pd.DataFrame(columns=X_test.columns,data=np.array([1, 3, \"alfa-romero giulia\", \"gas\", \"std\", \"two\", \"convertible\", \"rwd\", \"front\", 88.6, 168.8, 64.1, 48.8, 2548, \"dohc\", \"four\", 130, \"mpfi\", 3.47, 2.68, 9, 111, 5000, 21, 27]).reshape(1,25)))"
   ]
  },
  {
   "cell_type": "code",
   "execution_count": 30,
   "id": "7ce6d391-e040-4bb0-a981-8d8077af18d5",
   "metadata": {},
   "outputs": [
    {
     "name": "stdout",
     "output_type": "stream",
     "text": [
      "Best R^2 Score: 0.8818614899792175\n",
      "Corresponding Accuracy: 0.9838709677419355\n",
      "Prediction: [13515.32016036]\n"
     ]
    }
   ],
   "source": [
    "from sklearn.metrics import accuracy_score\n",
    "\n",
    "scores = []\n",
    "accuracies = []\n",
    "\n",
    "for i in range(206):\n",
    "    X_train, X_test, y_train, y_test = train_test_split(X, y, test_size=0.3, random_state=i)\n",
    "    lr = LinearRegression()\n",
    "    pipe = make_pipeline(column_trans, lr)\n",
    "    pipe.fit(X_train, y_train)\n",
    "    y_pred = pipe.predict(X_test)\n",
    "    scores.append(r2_score(y_test, y_pred))\n",
    "    \n",
    "    threshold = 1.0  # Set your threshold here\n",
    "    y_pred_binary = (y_pred >= threshold).astype(int)\n",
    "    y_test_binary = (y_test >= threshold).astype(int)\n",
    "    accuracy = accuracy_score(y_test_binary, y_pred_binary)\n",
    "    accuracies.append(accuracy)\n",
    "\n",
    "best_model_index = np.argmax(scores)\n",
    "\n",
    "print(\"Best R^2 Score:\", scores[best_model_index])\n",
    "print(\"Corresponding Accuracy:\", accuracies[best_model_index])\n",
    "\n",
    "best_model = pipe\n",
    "prediction = best_model.predict(pd.DataFrame(columns=X_test.columns, data=np.array([1, 3, \"alfa-romero giulia\", \"gas\", \"std\", \"two\", \"convertible\", \"rwd\", \"front\", 88.6, 168.8, 64.1, 48.8, 2548, \"dohc\", \"four\", 130, \"mpfi\", 3.47, 2.68, 9, 111, 5000, 21, 27]).reshape(1, -1)))\n",
    "print(\"Prediction:\", prediction)\n"
   ]
  },
  {
   "cell_type": "code",
   "execution_count": 31,
   "id": "8df856c1-4356-4fc6-83f0-87609e5596ff",
   "metadata": {},
   "outputs": [
    {
     "name": "stdout",
     "output_type": "stream",
     "text": [
      "R^2 Score for GridSearchCV: 0.9431204276737248\n",
      "R^2 Score for RandomizedSearchCV: 0.9431204276737248\n"
     ]
    }
   ],
   "source": [
    "from sklearn.metrics import accuracy_score\n",
    "from sklearn.model_selection import GridSearchCV, RandomizedSearchCV\n",
    "\n",
    "# Initialize lists to store scores\n",
    "grid_search_scores = []\n",
    "random_search_scores = []\n",
    "\n",
    "# Define parameter grid for GridSearchCV\n",
    "param_grid = {\n",
    "    'linearregression__fit_intercept': [True, False],  # Example parameter for LinearRegression\n",
    "    # Add more parameters for tuning here\n",
    "}\n",
    "\n",
    "# Define parameter distributions for RandomizedSearchCV\n",
    "param_dist = {\n",
    "    'linearregression__fit_intercept': [True, False],  # Example parameter for LinearRegression\n",
    "    # Add more parameters for tuning here\n",
    "}\n",
    "\n",
    "for i in range(206):\n",
    "    X_train, X_test, y_train, y_test = train_test_split(X, y, test_size=0.3, random_state=i)\n",
    "    lr = LinearRegression()\n",
    "    pipe = make_pipeline(column_trans, lr)\n",
    "    \n",
    "    # GridSearchCV\n",
    "    grid_search = GridSearchCV(pipe, param_grid, cv=5, scoring='r2')\n",
    "    grid_search.fit(X_train, y_train)\n",
    "    best_model_grid = grid_search.best_estimator_\n",
    "    y_pred_grid = best_model_grid.predict(X_test)\n",
    "    grid_search_scores.append(r2_score(y_test, y_pred_grid))\n",
    "    \n",
    "    # RandomizedSearchCV\n",
    "    random_search = RandomizedSearchCV(pipe, param_distributions=param_dist, n_iter=2, cv=5, scoring='r2', random_state=42)\n",
    "    random_search.fit(X_train, y_train)\n",
    "    best_model_random = random_search.best_estimator_\n",
    "    y_pred_random = best_model_random.predict(X_test)\n",
    "    random_search_scores.append(r2_score(y_test, y_pred_random))\n",
    "\n",
    "# Find the best scores and their indices\n",
    "best_grid_index = np.argmax(grid_search_scores)\n",
    "best_random_index = np.argmax(random_search_scores)\n",
    "\n",
    "print(\"R^2 Score for GridSearchCV:\", grid_search_scores[best_grid_index])\n",
    "print(\"R^2 Score for RandomizedSearchCV:\", random_search_scores[best_random_index])\n",
    "\n",
    "# Rest of the code remains unchanged\n"
   ]
  },
  {
   "cell_type": "code",
   "execution_count": 32,
   "id": "82f7d081-e7a6-47a6-9d91-70190b9bea74",
   "metadata": {},
   "outputs": [
    {
     "name": "stdout",
     "output_type": "stream",
     "text": [
      "R^2 Score: 0.8659887684006629\n",
      "Prediction: [13515.32016036]\n",
      "Best Model R^2 Score: 0.9077915269968616\n",
      "Best Parameters: {'polynomialfeatures__degree': 3}\n"
     ]
    }
   ],
   "source": [
    "from sklearn.preprocessing import PolynomialFeatures, OneHotEncoder\n",
    "from sklearn.compose import ColumnTransformer\n",
    "from sklearn.pipeline import make_pipeline\n",
    "from sklearn.model_selection import train_test_split\n",
    "from sklearn.linear_model import LinearRegression\n",
    "from sklearn.metrics import r2_score\n",
    "from sklearn.model_selection import GridSearchCV\n",
    "\n",
    "# Identify categorical columns\n",
    "categorical_cols = [\"CarName\", \"fueltype\", \"aspiration\", \"doornumber\", \"carbody\", \"drivewheel\", \"enginelocation\", \"enginetype\", \"cylindernumber\", \"fuelsystem\"] \n",
    "\n",
    "# Identify non-categorical columns\n",
    "non_categorical_cols = [col for col in X.columns if col not in categorical_cols]\n",
    "\n",
    "# Define the column transformer to handle categorical encoding and polynomial features\n",
    "preprocessor = ColumnTransformer(\n",
    "    transformers=[\n",
    "        ('cat', OneHotEncoder(handle_unknown=\"ignore\"), categorical_cols),  # One-hot encode categorical columns\n",
    "        ('num', 'passthrough', non_categorical_cols)  # Pass through non-categorical columns\n",
    "    ]\n",
    ")\n",
    "\n",
    "# Create polynomial features\n",
    "degree = 2  # Set the degree of the polynomial\n",
    "poly = PolynomialFeatures(degree=degree, include_bias=False)\n",
    "\n",
    "# Combine preprocessor and polynomial features into a pipeline\n",
    "pipeline = make_pipeline(preprocessor, poly, LinearRegression())\n",
    "\n",
    "# Split the data into training and testing sets\n",
    "X_train, X_test, y_train, y_test = train_test_split(X, y, test_size=0.3, random_state=42)\n",
    "\n",
    "# Fit the pipeline on the training data\n",
    "pipeline.fit(X_train, y_train)\n",
    "\n",
    "# Make predictions on the testing data\n",
    "y_pred = pipeline.predict(X_test)\n",
    "\n",
    "# Calculate the R^2 score\n",
    "r2 = r2_score(y_test, y_pred)\n",
    "print(\"R^2 Score:\", r2)\n",
    "prediction = best_model.predict(pd.DataFrame(columns=X_test.columns, data=np.array([1, 3, \"alfa-romero giulia\", \"gas\", \"std\", \"two\", \"convertible\", \"rwd\", \"front\", 88.6, 168.8, 64.1, 48.8, 2548, \"dohc\", \"four\", 130, \"mpfi\", 3.47, 2.68, 9, 111, 5000, 21, 27]).reshape(1, -1)))\n",
    "print(\"Prediction:\", prediction)\n",
    "# Define the parameter grid\n",
    "param_grid = {\n",
    "    'polynomialfeatures__degree': [1, 2, 3],  # Try different degrees of polynomial features\n",
    "    # Remove 'normalize' from the param_grid\n",
    "}\n",
    "\n",
    "\n",
    "# Instantiate Grid Search\n",
    "grid_search = GridSearchCV(pipeline, param_grid, cv=5, scoring='r2')\n",
    "\n",
    "# Fit Grid Search\n",
    "grid_search.fit(X_train, y_train)\n",
    "\n",
    "# Retrieve Best Model\n",
    "best_model = grid_search.best_estimator_\n",
    "\n",
    "# Make predictions on the testing data using the best model\n",
    "y_pred = best_model.predict(X_test)\n",
    "\n",
    "# Calculate the R^2 score of the best model\n",
    "r2 = r2_score(y_test, y_pred)\n",
    "print(\"Best Model R^2 Score:\", r2)\n",
    "\n",
    "# Print the best parameters found by Grid Search\n",
    "print(\"Best Parameters:\", grid_search.best_params_)\n"
   ]
  },
  {
   "cell_type": "code",
   "execution_count": 33,
   "id": "afa3c138-484a-4638-8cfc-464c1aeb8235",
   "metadata": {},
   "outputs": [
    {
     "name": "stdout",
     "output_type": "stream",
     "text": [
      "Best Model R^2 Score (Randomized Search): 0.9077915269968616\n",
      "Best Parameters (Randomized Search): {'polynomialfeatures__degree': 3}\n"
     ]
    }
   ],
   "source": [
    "from sklearn.model_selection import RandomizedSearchCV\n",
    "from scipy.stats import randint\n",
    "\n",
    "# Define the parameter distributions for Randomized Search\n",
    "param_dist = {\n",
    "    'polynomialfeatures__degree': [1, 2, 3],  # Try different degrees of polynomial features\n",
    "}\n",
    "\n",
    "# Instantiate Randomized Search\n",
    "random_search = RandomizedSearchCV(pipeline, param_distributions=param_dist, n_iter=3, cv=5, scoring='r2', random_state=42)\n",
    "\n",
    "# Fit Randomized Search\n",
    "random_search.fit(X_train, y_train)\n",
    "\n",
    "# Retrieve Best Model\n",
    "best_model_random = random_search.best_estimator_\n",
    "\n",
    "# Make predictions on the testing data using the best model from Randomized Search\n",
    "y_pred_random = best_model_random.predict(X_test)\n",
    "\n",
    "# Calculate the R^2 score of the best model from Randomized Search\n",
    "r2_random = r2_score(y_test, y_pred_random)\n",
    "print(\"Best Model R^2 Score (Randomized Search):\", r2_random)\n",
    "\n",
    "# Print the best parameters found by Randomized Search\n",
    "print(\"Best Parameters (Randomized Search):\", random_search.best_params_)\n"
   ]
  },
  {
   "cell_type": "code",
   "execution_count": 34,
   "id": "cc3ff64c-a016-47c6-937a-5892fe58d825",
   "metadata": {},
   "outputs": [
    {
     "name": "stdout",
     "output_type": "stream",
     "text": [
      "Best R^2 Score: 0.8704478691171345\n",
      "Prediction: [13495.]\n"
     ]
    }
   ],
   "source": [
    "from sklearn.tree import DecisionTreeRegressor\n",
    "from sklearn.metrics import r2_score\n",
    "from sklearn.model_selection import train_test_split\n",
    "from sklearn.pipeline import make_pipeline\n",
    "from sklearn.compose import ColumnTransformer\n",
    "from sklearn.preprocessing import OneHotEncoder\n",
    "from sklearn.metrics import accuracy_score\n",
    "\n",
    "# Import your dataset (X, y) and define categorical columns if needed\n",
    "\n",
    "# Identify categorical columns\n",
    "categorical_cols = [\"CarName\", \"fueltype\", \"aspiration\", \"doornumber\", \"carbody\", \"drivewheel\", \"enginelocation\", \"enginetype\", \"cylindernumber\", \"fuelsystem\"] \n",
    "\n",
    "# Identify non-categorical columns\n",
    "non_categorical_cols = [col for col in X.columns if col not in categorical_cols]\n",
    "\n",
    "# Define the column transformer to handle categorical encoding\n",
    "column_trans = ColumnTransformer(\n",
    "    transformers=[\n",
    "        ('cat', OneHotEncoder(handle_unknown=\"ignore\"), categorical_cols)  # One-hot encode categorical columns\n",
    "    ]\n",
    ")\n",
    "\n",
    "scores = []\n",
    "accuracies = []\n",
    "\n",
    "for i in range(206):\n",
    "    X_train, X_test, y_train, y_test = train_test_split(X, y, test_size=0.3, random_state=i)\n",
    "    dt = DecisionTreeRegressor(random_state=42)  # Create Decision Tree Regressor\n",
    "    pipe = make_pipeline(column_trans, dt)  # Create a pipeline with the column transformer and the decision tree\n",
    "    pipe.fit(X_train, y_train)\n",
    "    y_pred = pipe.predict(X_test)\n",
    "    scores.append(r2_score(y_test, y_pred))\n",
    "    \n",
    "    # There's no need to calculate accuracy for Decision Tree Regression\n",
    "    # accuracy = accuracy_score(y_test_binary, y_pred_binary)\n",
    "    # accuracies.append(accuracy)\n",
    "\n",
    "best_model_index = np.argmax(scores)\n",
    "\n",
    "print(\"Best R^2 Score:\", scores[best_model_index])\n",
    "\n",
    "best_model = pipe\n",
    "prediction = best_model.predict(pd.DataFrame(columns=X_test.columns, data=np.array([1, 3, \"alfa-romero giulia\", \"gas\", \"std\", \"two\", \"convertible\", \"rwd\", \"front\", 88.6, 168.8, 64.1, 48.8, 2548, \"dohc\", \"four\", 130, \"mpfi\", 3.47, 2.68, 9, 111, 5000, 21, 27]).reshape(1, -1)))\n",
    "print(\"Prediction:\", prediction)\n"
   ]
  },
  {
   "cell_type": "code",
   "execution_count": 35,
   "id": "f9d2e9fb-e3f5-4c17-8653-a61759d1320d",
   "metadata": {},
   "outputs": [],
   "source": [
    "import pickle \n",
    "pickle.dump(pipe,open('DecisionTreeRegressionModel.pkl','wb'))"
   ]
  },
  {
   "cell_type": "code",
   "execution_count": 36,
   "id": "f764bd8c-b6cd-4871-9e10-54ddb79eab32",
   "metadata": {},
   "outputs": [
    {
     "name": "stdout",
     "output_type": "stream",
     "text": [
      "Best R^2 Score for GridSearchCV: 0.8695794683742857\n",
      "Best R^2 Score for RandomizedSearchCV: 0.864756186074896\n"
     ]
    }
   ],
   "source": [
    "from sklearn.tree import DecisionTreeRegressor\n",
    "from sklearn.metrics import r2_score\n",
    "from sklearn.model_selection import train_test_split, GridSearchCV, RandomizedSearchCV\n",
    "from sklearn.pipeline import make_pipeline\n",
    "from sklearn.compose import ColumnTransformer\n",
    "from sklearn.preprocessing import OneHotEncoder\n",
    "import numpy as np\n",
    "import pandas as pd\n",
    "\n",
    "# Assuming X and y are defined\n",
    "\n",
    "# Identify categorical columns\n",
    "categorical_cols = [\"CarName\", \"fueltype\", \"aspiration\", \"doornumber\", \"carbody\", \"drivewheel\", \"enginelocation\", \"enginetype\", \"cylindernumber\", \"fuelsystem\"]\n",
    "\n",
    "# Identify non-categorical columns\n",
    "non_categorical_cols = [col for col in X.columns if col not in categorical_cols]\n",
    "\n",
    "# Define the column transformer to handle categorical encoding\n",
    "column_trans = ColumnTransformer(\n",
    "    transformers=[\n",
    "        ('cat', OneHotEncoder(handle_unknown=\"ignore\"), categorical_cols)\n",
    "    ]\n",
    ")\n",
    "\n",
    "# Initialize lists to store scores\n",
    "grid_search_scores = []\n",
    "random_search_scores = []\n",
    "\n",
    "# Define parameter grid for GridSearchCV and RandomizedSearchCV for DecisionTreeRegressor\n",
    "param_grid = {\n",
    "    'decisiontreeregressor__max_depth': [None, 5, 10, 20, 30],  # Max depth of the trees\n",
    "    'decisiontreeregressor__min_samples_split': [2, 5, 10, 15],  # Minimum samples required to split a node\n",
    "    'decisiontreeregressor__min_samples_leaf': [1, 2, 4, 8],  # Minimum samples required at each leaf node\n",
    "}\n",
    "\n",
    "# Define parameter distributions for RandomizedSearchCV\n",
    "param_dist = {\n",
    "    'decisiontreeregressor__max_depth': [None, 5, 10, 20, 30],\n",
    "    'decisiontreeregressor__min_samples_split': [2, 5, 10, 15],\n",
    "    'decisiontreeregressor__min_samples_leaf': [1, 2, 4, 8],\n",
    "}\n",
    "\n",
    "for i in range(206):\n",
    "    X_train, X_test, y_train, y_test = train_test_split(X, y, test_size=0.3, random_state=i)\n",
    "    dt = DecisionTreeRegressor(random_state=42)  # Create Decision Tree Regressor\n",
    "    pipe = make_pipeline(column_trans, dt)  # Create a pipeline with the column transformer and the decision tree\n",
    "    \n",
    "    # GridSearchCV\n",
    "    grid_search = GridSearchCV(pipe, param_grid, cv=5, scoring='r2')\n",
    "    grid_search.fit(X_train, y_train)\n",
    "    best_model_grid = grid_search.best_estimator_\n",
    "    y_pred_grid = best_model_grid.predict(X_test)\n",
    "    grid_search_scores.append(r2_score(y_test, y_pred_grid))\n",
    "    \n",
    "    # RandomizedSearchCV\n",
    "    random_search = RandomizedSearchCV(pipe, param_distributions=param_dist, n_iter=10, cv=5, scoring='r2', random_state=42)\n",
    "    random_search.fit(X_train, y_train)\n",
    "    best_model_random = random_search.best_estimator_\n",
    "    y_pred_random = best_model_random.predict(X_test)\n",
    "    random_search_scores.append(r2_score(y_test, y_pred_random))\n",
    "\n",
    "# Find the best scores and their indices\n",
    "best_grid_index = np.argmax(grid_search_scores)\n",
    "best_random_index = np.argmax(random_search_scores)\n",
    "\n",
    "print(\"Best R^2 Score for GridSearchCV:\", grid_search_scores[best_grid_index])\n",
    "print(\"Best R^2 Score for RandomizedSearchCV:\", random_search_scores[best_random_index])\n"
   ]
  },
  {
   "cell_type": "code",
   "execution_count": 37,
   "id": "bfb4b8b1-d447-4b4b-8c62-f2d3e9cf3177",
   "metadata": {},
   "outputs": [
    {
     "name": "stdout",
     "output_type": "stream",
     "text": [
      "Best R^2 Score: 0.8670600516692941\n",
      "Prediction: [13858.75]\n"
     ]
    }
   ],
   "source": [
    "from sklearn.ensemble import RandomForestRegressor\n",
    "from sklearn.metrics import r2_score\n",
    "from sklearn.model_selection import train_test_split\n",
    "from sklearn.pipeline import make_pipeline\n",
    "from sklearn.compose import ColumnTransformer\n",
    "from sklearn.preprocessing import OneHotEncoder\n",
    "from sklearn.metrics import accuracy_score\n",
    "\n",
    "# Identify categorical columns\n",
    "categorical_cols = [\"CarName\", \"fueltype\", \"aspiration\", \"doornumber\", \"carbody\", \"drivewheel\", \"enginelocation\", \"enginetype\", \"cylindernumber\", \"fuelsystem\"] \n",
    "\n",
    "# Identify non-categorical columns\n",
    "non_categorical_cols = [col for col in X.columns if col not in categorical_cols]\n",
    "\n",
    "# Define the column transformer to handle categorical encoding\n",
    "column_trans = ColumnTransformer(\n",
    "    transformers=[\n",
    "        ('cat', OneHotEncoder(handle_unknown=\"ignore\"), categorical_cols)  # One-hot encode categorical columns\n",
    "    ]\n",
    ")\n",
    "\n",
    "scores = []\n",
    "accuracies = []\n",
    "\n",
    "for i in range(206):\n",
    "    X_train, X_test, y_train, y_test = train_test_split(X, y, test_size=0.3, random_state=i)\n",
    "    rf = RandomForestRegressor(random_state=42)  # Create Random Forest Regressor\n",
    "    pipe = make_pipeline(column_trans, rf)  # Create a pipeline with the column transformer and the random forest\n",
    "    pipe.fit(X_train, y_train)\n",
    "    y_pred = pipe.predict(X_test)\n",
    "    scores.append(r2_score(y_test, y_pred))\n",
    "    \n",
    "    # There's no need to calculate accuracy for Random Forest Regression\n",
    "    # threshold = 1.0  # Set your threshold here\n",
    "    # y_pred_binary = (y_pred >= threshold).astype(int)\n",
    "    # y_test_binary = (y_test >= threshold).astype(int)\n",
    "    # accuracy = accuracy_score(y_test_binary, y_pred_binary)\n",
    "    # accuracies.append(accuracy)\n",
    "\n",
    "best_model_index = np.argmax(scores)\n",
    "\n",
    "print(\"Best R^2 Score:\", scores[best_model_index])\n",
    "\n",
    "best_model = pipe\n",
    "prediction = best_model.predict(pd.DataFrame(columns=X_test.columns, data=np.array([1, 3, \"alfa-romero giulia\", \"gas\", \"std\", \"two\", \"convertible\", \"rwd\", \"front\", 88.6, 168.8, 64.1, 48.8, 2548, \"dohc\", \"four\", 130, \"mpfi\", 3.47, 2.68, 9, 111, 5000, 21, 27]).reshape(1, -1)))\n",
    "print(\"Prediction:\", prediction)\n"
   ]
  },
  {
   "cell_type": "code",
   "execution_count": 22,
   "id": "ac9e11e0-0ca9-45c7-a0d8-579235dd5acd",
   "metadata": {},
   "outputs": [
    {
     "data": {
      "image/png": "[encoded data removed]",
      "text/plain": [
       "<Figure size 500x600 with 1 Axes>"
      ]
     },
     "metadata": {},
     "output_type": "display_data"
    }
   ],
   "source": [
    "import matplotlib.pyplot as plt\n",
    "\n",
    "# Sample R-squared scores and model names\n",
    "r_squared_scores = [0.72, 0.76, 0.78, 0.84, 0.86]  # Example R-squared scores\n",
    "model_names = ['Trial 1', 'Trial 2', 'Trial 3', 'Trial 4', 'Trial 5',]  # Example model names\n",
    "\n",
    "# Plotting the bar chart\n",
    "plt.figure(figsize=(5, 6))  # Increase figure width to provide more space\n",
    "plt.bar(model_names, r_squared_scores, color='skyblue')\n",
    "\n",
    "# Adding labels and title\n",
    "plt.xlabel('Tuning Trials')\n",
    "plt.ylabel('R-squared Score')\n",
    "plt.title('Tuning R-squared Scores of  Regression')\n",
    "\n",
    "# Adding the R-squared scores on top of the bars\n",
    "for i, score in enumerate(r_squared_scores):\n",
    "    plt.text(i, score + 0.01, f'{score:.2f}', ha='center')\n",
    "\n",
    "# Displaying the plot\n",
    "plt.xticks(rotation=45)  # Rotate x-axis labels for better readability\n",
    "plt.ylim(0, 1)  # Set y-axis limit from 0 to 1 for R-squared score\n",
    "plt.tight_layout()\n",
    "plt.show()\n"
   ]
  },
  {
   "cell_type": "code",
   "execution_count": null,
   "id": "9f06cf23-45ba-4b42-bdf7-f5a3d5022f6e",
   "metadata": {},
   "outputs": [],
   "source": []
  }
 ],
 "metadata": {
  "kernelspec": {
   "display_name": "Python 3 (ipykernel)",
   "language": "python",
   "name": "python3"
  },
  "language_info": {
   "codemirror_mode": {
    "name": "ipython",
    "version": 3
   },
   "file_extension": ".py",
   "mimetype": "text/x-python",
   "name": "python",
   "nbconvert_exporter": "python",
   "pygments_lexer": "ipython3",
   "version": "3.11.5"
  }
 },
 "nbformat": 4,
 "nbformat_minor": 5
}
